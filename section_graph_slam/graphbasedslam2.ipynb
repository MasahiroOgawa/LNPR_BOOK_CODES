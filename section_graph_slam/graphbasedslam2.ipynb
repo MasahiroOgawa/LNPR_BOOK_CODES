{
 "cells": [
  {
   "cell_type": "code",
   "execution_count": null,
   "metadata": {},
   "outputs": [],
   "source": [
    "import sys \n",
    "sys.path.append('../scripts/')\n",
    "from kf import *   #誤差楕円を描くのに利用"
   ]
  },
  {
   "cell_type": "code",
   "execution_count": null,
   "metadata": {},
   "outputs": [],
   "source": [
    "def make_ax(): #axisの準備\n",
    "    fig = plt.figure(figsize=(4,4))\n",
    "    ax = fig.add_subplot(111)\n",
    "    ax.set_aspect('equal')\n",
    "    ax.set_xlim(-5,5)                  \n",
    "    ax.set_ylim(-5,5) \n",
    "    ax.set_xlabel(\"X\",fontsize=10) \n",
    "    ax.set_ylabel(\"Y\",fontsize=10)  \n",
    "    return ax\n",
    "\n",
    "def draw_trajectory(xs, ax): #軌跡の描画\n",
    "    poses = [xs[s] for s in range(len(xs))]\n",
    "    ax.scatter([e[0] for e in poses], [e[1] for e in poses], s=5, marker=\".\", color=\"black\")\n",
    "    ax.plot([e[0] for e in poses], [e[1] for e in poses], linewidth=0.5, color=\"black\")\n",
    "    \n",
    "def draw_observations(xs, zlist, ax): #センサ値の描画\n",
    "    for s in range(len(xs)):\n",
    "        if s not in zlist:\n",
    "            continue\n",
    "            \n",
    "        for obs in zlist[s]:\n",
    "            x, y, theta = xs[s]\n",
    "            ell, phi = obs[1][0], obs[1][1]\n",
    "            mx = x + ell*math.cos(theta + phi)\n",
    "            my = y + ell*math.sin(theta + phi)\n",
    "            ax.plot([x,mx], [y,my], color=\"pink\", alpha=0.5)\n",
    "            \n",
    "def draw_edges(edges, ax): ###graphbasedslam2draw\n",
    "    for e in edges:\n",
    "        ax.plot([e.x1[0], e.x2[0]], [e.x1[1] ,e.x2[1]], color=\"red\", alpha=0.5)\n",
    "\n",
    "def draw(xs, zlist, edges): #引数追加\n",
    "    ax = make_ax()\n",
    "    draw_observations(xs, zlist, ax)\n",
    "    draw_edges(edges, ax) #追加\n",
    "    draw_trajectory(xs, ax)\n",
    "    plt.show()"
   ]
  },
  {
   "cell_type": "code",
   "execution_count": null,
   "metadata": {},
   "outputs": [],
   "source": [
    "def read_data():#データの読み込み\n",
    "    hat_xs = {}     #軌跡のデータ（ステップ数をキーにして姿勢を保存）\n",
    "    zlist = {} #センサ値のデータ（ステップ数をキーにして、さらにその中にランドマークのIDとセンサ値をタプルで保存）\n",
    "\n",
    "    with open(\"log.txt\") as f:\n",
    "        for line in f.readlines():\n",
    "            tmp = line.rstrip().split()\n",
    "\n",
    "            step = int(tmp[1])\n",
    "            if tmp[0] == \"x\": #姿勢のレコードの場合\n",
    "                hat_xs[step] = np.array([float(tmp[2]), float(tmp[3]), float(tmp[4])]).T\n",
    "            elif tmp[0] == \"z\": #センサ値のレコードの場合\n",
    "                if step not in zlist:  #まだ辞書が空の時は空の辞書を作る\n",
    "                    zlist[step] = []\n",
    "                zlist[step].append((int(tmp[2]), np.array([float(tmp[3]), float(tmp[4]), float(tmp[5])]).T))\n",
    "                \n",
    "        return hat_xs, zlist"
   ]
  },
  {
   "cell_type": "code",
   "execution_count": null,
   "metadata": {},
   "outputs": [],
   "source": [
    "class ObsEdge: ###graphbasedslam2edge\n",
    "    def __init__(self, t1, t2, z1, z2, xs):\n",
    "        assert z1[0] == z2[0] #ランドマークのIDが違ったら処理を止める\n",
    "            \n",
    "        self.t1, self.t2 = t1, t2                   #時刻の記録\n",
    "        self.x1, self.x2 = xs[t1], xs[t2]    #各時刻の姿勢\n",
    "        self.z1, self.z2 = z1[1], z2[1]     #各時刻のセンサ値"
   ]
  },
  {
   "cell_type": "code",
   "execution_count": null,
   "metadata": {},
   "outputs": [],
   "source": [
    "import itertools     ###graphbasedslam2makeedge\n",
    "def make_edges(hat_xs, zlist):\n",
    "    landmark_keys_zlist = {} #ランドマークのIDをキーにして観測された時刻とセンサ値を記録 \n",
    "\n",
    "    for step in zlist:           #キーを時刻からランドマークのIDへ\n",
    "        for z in zlist[step]:\n",
    "            landmark_id = z[0]\n",
    "            if landmark_id not in landmark_keys_zlist: \n",
    "                landmark_keys_zlist[landmark_id] = []\n",
    "\n",
    "            landmark_keys_zlist[landmark_id].append((step, z))\n",
    "    \n",
    "    edges = []\n",
    "    for landmark_id in landmark_keys_zlist:\n",
    "        step_pairs = list(itertools.combinations(landmark_keys_zlist[landmark_id], 2)) #時刻のペアを作成\n",
    "        edges += [ObsEdge(xz1[0], xz2[0], xz1[1], xz2[1], hat_xs) for xz1, xz2 in step_pairs]\n",
    "        \n",
    "    return edges"
   ]
  },
  {
   "cell_type": "code",
   "execution_count": null,
   "metadata": {},
   "outputs": [],
   "source": [
    "hat_xs, zlist = read_data()  ###graphbasedslam2exec\n",
    "edges = make_edges(hat_xs, zlist)\n",
    "draw(hat_xs, zlist, edges)"
   ]
  },
  {
   "cell_type": "code",
   "execution_count": null,
   "metadata": {},
   "outputs": [],
   "source": []
  }
 ],
 "metadata": {
  "kernelspec": {
   "display_name": "Python 3",
   "language": "python",
   "name": "python3"
  },
  "language_info": {
   "codemirror_mode": {
    "name": "ipython",
    "version": 3
   },
   "file_extension": ".py",
   "mimetype": "text/x-python",
   "name": "python",
   "nbconvert_exporter": "python",
   "pygments_lexer": "ipython3",
   "version": "3.7.0"
  }
 },
 "nbformat": 4,
 "nbformat_minor": 2
}
