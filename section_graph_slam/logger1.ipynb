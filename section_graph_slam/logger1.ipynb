{
 "cells": [
  {
   "cell_type": "code",
   "execution_count": null,
   "metadata": {},
   "outputs": [],
   "source": [
    "import sys  ###loggerpsicamera（このセルと次のセル）\n",
    "sys.path.append('../scripts/')\n",
    "from robot import *\n",
    "%matplotlib inline"
   ]
  },
  {
   "cell_type": "code",
   "execution_count": null,
   "metadata": {},
   "outputs": [],
   "source": [
    "class PsiCamera(Camera): #dataメソッドはCameraクラスから持ってくる\n",
    "    def data(self, cam_pose, orientation_noise=math.pi/90):  #orientation_noiseを追加。psiの雑音の大きさをセット\n",
    "        observed = []\n",
    "        for lm in self.map.landmarks:\n",
    "            psi = norm.rvs(loc=math.atan2(cam_pose[1] - lm.pos[1], cam_pose[0] - lm.pos[0]), scale=orientation_noise) #追加\n",
    "            z = self.observation_function(cam_pose, lm.pos)\n",
    "            z = self.phantom(cam_pose, z) \n",
    "            z = self.oversight(z) \n",
    "            if self.visible(z):\n",
    "                z = self.bias(z)\n",
    "                z = self.noise(z)\n",
    "                observed.append(([z[0], z[1], psi], lm.id)) #psiをセンサ値に追加\n",
    "            \n",
    "        self.lastdata = observed\n",
    "        return observed"
   ]
  },
  {
   "cell_type": "code",
   "execution_count": null,
   "metadata": {},
   "outputs": [],
   "source": [
    "class LoggerAgent(Agent): ###loggerloggeragent（下まで）\n",
    "    def __init__(self, nu, omega, interval_time, init_pose): #更新時間と初期姿勢を変数に加える\n",
    "        super().__init__(nu, omega)\n",
    "        self.interval_time = interval_time\n",
    "        self.pose = init_pose\n",
    "        self.step = 0\n",
    "        self.log = open(\"log.txt\", \"w\")\n",
    "        \n",
    "    def decision(self, observation):\n",
    "        if len(observation) != 0: #ランドマークが観測されていない姿勢は記録しない\n",
    "            self.log.write(\"x {} {} {} {}\\n\".format(self.step, *self.pose)) #時刻, x, y, theta\n",
    "            for obs in observation:\n",
    "                self.log.write(\"z {} {} {} {} {}\\n\".format(self.step, obs[1], *obs[0]))\n",
    "                \n",
    "            self.step += 1\n",
    "            self.log.flush()\n",
    "        \n",
    "        self.pose = IdealRobot.state_transition(self.nu, self.omega, self.interval_time, self.pose)\n",
    "        return self.nu, self.omega"
   ]
  },
  {
   "cell_type": "code",
   "execution_count": null,
   "metadata": {},
   "outputs": [],
   "source": [
    "if __name__ == '__main__': \n",
    "    time_interval = 3\n",
    "    world = World(180, time_interval, debug=True) \n",
    "\n",
    "    ###真の地図を作成###\n",
    "    m = Map()\n",
    "    landmark_positions = [(-4,2), (2,-3), (3,3), (0,4), (1,1), (-3,-1)]\n",
    "    for p in landmark_positions:\n",
    "        m.append_landmark(Landmark(*p))\n",
    "        \n",
    "    world.append(m) \n",
    "\n",
    "    ### ロボットを作る ###\n",
    "    init_pose = np.array([0, -3 ,0]).T\n",
    "    a = LoggerAgent(0.2, 5.0/180*math.pi, time_interval, init_pose)\n",
    "    r = Robot(init_pose, sensor=PsiCamera(m), agent=a, color=\"red\")\n",
    "    world.append(r)\n",
    "\n",
    "    world.draw()"
   ]
  },
  {
   "cell_type": "code",
   "execution_count": null,
   "metadata": {},
   "outputs": [],
   "source": []
  }
 ],
 "metadata": {
  "kernelspec": {
   "display_name": "lnpr",
   "language": "python",
   "name": "lnpr"
  },
  "language_info": {
   "codemirror_mode": {
    "name": "ipython",
    "version": 3
   },
   "file_extension": ".py",
   "mimetype": "text/x-python",
   "name": "python",
   "nbconvert_exporter": "python",
   "pygments_lexer": "ipython3",
   "version": "3.7.0"
  }
 },
 "nbformat": 4,
 "nbformat_minor": 4
}
