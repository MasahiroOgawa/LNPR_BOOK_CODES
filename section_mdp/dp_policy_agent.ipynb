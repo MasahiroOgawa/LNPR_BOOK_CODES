{
 "cells": [
  {
   "cell_type": "code",
   "execution_count": null,
   "metadata": {},
   "outputs": [],
   "source": [
    "import sys ###dppolicyagent\n",
    "sys.path.append('../scripts/')\n",
    "from puddle_world import *\n",
    "import itertools\n",
    "import collections"
   ]
  },
  {
   "cell_type": "code",
   "execution_count": null,
   "metadata": {},
   "outputs": [],
   "source": [
    "class DpPolicyAgent(PuddleIgnoreAgent):  ###dppolicyagent\n",
    "    def __init__(self, time_interval, estimator, goal, puddle_coef=100, widths=np.array([0.2, 0.2, math.pi/18]).T, \\\n",
    "                 lowerleft=np.array([-4, -4]).T, upperright=np.array([4, 4]).T): #widths以降はDynamicProgrammingから持ってくる\n",
    "        super().__init__(time_interval, estimator, goal, puddle_coef) \n",
    "        \n",
    "        ###座標関連の変数をDynamicProgrammingから持ってくる###\n",
    "        self.pose_min = np.r_[lowerleft, 0] \n",
    "        self.pose_max = np.r_[upperright, math.pi*2]\n",
    "        self.widths = widths\n",
    "        self.index_nums = ((self.pose_max - self.pose_min)/self.widths).astype(int)\n",
    "        \n",
    "        self.policy_data = self.init_policy(self.index_nums)\n",
    "        \n",
    "    def init_policy(self, index_nums):\n",
    "        tmp = np.zeros(np.r_[index_nums,2])\n",
    "        for line in open(\"policy.txt\", \"r\"):\n",
    "            d = line.split()\n",
    "            tmp[int(d[0]), int(d[1]), int(d[2])] = [float(d[3]), float(d[4])]\n",
    "            \n",
    "        return tmp\n",
    "    \n",
    "    def to_index(self, pose, pose_min, index_nums , widths): #姿勢をインデックスに変えて正規化\n",
    "        index = np.floor((pose - pose_min)/widths).astype(int)           #姿勢からインデックスに\n",
    "        \n",
    "        index[2] = (index[2] + index_nums[2]*1000)%index_nums[2] #角度の正規化\n",
    "        for i in [0,1]:                                                                                   #端の処理（内側の座標の方策を使う）\n",
    "            if index[i] < 0: index[i] = 0\n",
    "            elif index[i] >= index_nums[i]: index[i] = index_nums[i] - 1\n",
    "                \n",
    "        return tuple(index) #ベクトルのままだとインデックスに使えないのでタプルに\n",
    "    \n",
    "    def policy(self, pose, goal=None): #姿勢から離散状態のインデックスを作って方策を参照して返すだけ                \n",
    "        return self.policy_data[self.to_index(pose, self.pose_min, self.index_nums, self.widths)]"
   ]
  },
  {
   "cell_type": "code",
   "execution_count": null,
   "metadata": {},
   "outputs": [],
   "source": [
    "def trial():  ###dppolicyagentrun\n",
    "    time_interval = 0.1\n",
    "    world = World(30, time_interval, debug=False) \n",
    "\n",
    "    ## 地図を生成して3つランドマークを追加 ##\n",
    "    m = Map()\n",
    "    for ln in [(-4,2), (2,-3), (4,4), (-4,-4)]: m.append_landmark(Landmark(*ln))\n",
    "    world.append(m)   \n",
    "\n",
    "    ##ゴールの追加##\n",
    "    goal = Goal(-3,-3)  #goalを変数に\n",
    "    world.append(goal)\n",
    "    \n",
    "    ##水たまりの追加##\n",
    "    world.append(Puddle((-2, 0), (0, 2), 0.1)) \n",
    "    world.append(Puddle((-0.5, -2), (2.5, 1), 0.1)) \n",
    "\n",
    "    ##4台のロボットを動かしてみる##   ##dppolicyagentrun\n",
    "    init_poses = []\n",
    "    for p in [[-3, 3, 0], [0.5, 1.5, 0], [3, 3, 0], [2, -1, 0]]:\n",
    "        init_pose = np.array(p).T\n",
    "    \n",
    "        kf = KalmanFilter(m, init_pose)\n",
    "        a = DpPolicyAgent(time_interval, kf, goal)\n",
    "        r = Robot(init_pose, sensor=Camera(m, distance_bias_rate_stddev=0, direction_bias_stddev=0), \n",
    "              agent=a, color=\"red\", bias_rate_stds=(0,0))\n",
    "\n",
    "        world.append(r)\n",
    "        \n",
    "    world.draw()\n",
    "    \n",
    "trial()"
   ]
  },
  {
   "cell_type": "code",
   "execution_count": null,
   "metadata": {},
   "outputs": [],
   "source": []
  }
 ],
 "metadata": {
  "kernelspec": {
   "display_name": "Python 3 (ipykernel)",
   "language": "python",
   "name": "python3"
  },
  "language_info": {
   "codemirror_mode": {
    "name": "ipython",
    "version": 3
   },
   "file_extension": ".py",
   "mimetype": "text/x-python",
   "name": "python",
   "nbconvert_exporter": "python",
   "pygments_lexer": "ipython3",
   "version": "3.7.0"
  }
 },
 "nbformat": 4,
 "nbformat_minor": 4
}
