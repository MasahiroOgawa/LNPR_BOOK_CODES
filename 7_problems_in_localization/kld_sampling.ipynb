{
 "cells": [
  {
   "cell_type": "markdown",
   "id": "a8d2b763",
   "metadata": {},
   "source": [
    "# 7.1 KLD sampling"
   ]
  },
  {
   "cell_type": "markdown",
   "id": "c5e8f9b8",
   "metadata": {},
   "source": [
    "## 7.1.2 calculation of number of particles"
   ]
  },
  {
   "cell_type": "code",
   "execution_count": 5,
   "id": "51ab41e5",
   "metadata": {},
   "outputs": [],
   "source": [
    "import sys\n",
    "sys.path.append('../scripts/')\n",
    "from robot import *\n",
    "from scipy.stats import norm, chi2"
   ]
  },
  {
   "cell_type": "code",
   "execution_count": 14,
   "id": "08549c9d",
   "metadata": {},
   "outputs": [],
   "source": [
    "def num_particles(epsilon=0.1, delta=0.01, binnum=1000):\n",
    "    return math.ceil(chi2.ppf(1-delta, binnum-1)/(2*epsilon)) #ppf: percent point function"
   ]
  },
  {
   "cell_type": "code",
   "execution_count": 21,
   "id": "8d0f664f",
   "metadata": {},
   "outputs": [],
   "source": [
    "def bin_N(min_bin, max_bin):\n",
    "    num_bins = np.arange(min_bin, max_bin)\n",
    "    eps = 0.1\n",
    "    delta = 0.01\n",
    "    N = [num_particles(eps, delta, b) for b in num_bins]\n",
    "    return num_bins, N"
   ]
  },
  {
   "cell_type": "code",
   "execution_count": null,
   "id": "03f7564e",
   "metadata": {},
   "outputs": [],
   "source": [
    "fig, (axl, axr) = plt.subplots(ncols=2, figsize=(10,4))\n",
    "xs,ys = bin_N(2, 10)\n",
    "axl.plot(xs,ys)\n",
    "xs,ys = bin_N(2,100000)\n",
    "axr.plot(xs,ys)\n",
    "plt.show()"
   ]
  },
  {
   "cell_type": "code",
   "execution_count": null,
   "id": "a1f882b2",
   "metadata": {},
   "outputs": [],
   "source": []
  }
 ],
 "metadata": {
  "kernelspec": {
   "display_name": "study",
   "language": "python",
   "name": "study"
  },
  "language_info": {
   "codemirror_mode": {
    "name": "ipython",
    "version": 3
   },
   "file_extension": ".py",
   "mimetype": "text/x-python",
   "name": "python",
   "nbconvert_exporter": "python",
   "pygments_lexer": "ipython3",
   "version": "3.9.4"
  }
 },
 "nbformat": 4,
 "nbformat_minor": 5
}
