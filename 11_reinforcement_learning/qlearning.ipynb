{
 "cells": [
  {
   "cell_type": "markdown",
   "id": "f6dad11e",
   "metadata": {},
   "source": [
    "# 11.1.2 preparation"
   ]
  },
  {
   "cell_type": "code",
   "execution_count": null,
   "id": "badab1a4-a491-4ca1-9d75-9b6dc5c82dba",
   "metadata": {},
   "outputs": [],
   "source": [
    "import sys\n",
    "%matplotlib inline"
   ]
  },
  {
   "cell_type": "code",
   "execution_count": null,
   "id": "59259564-ada8-4de8-b96c-01bf4afb6d33",
   "metadata": {},
   "outputs": [],
   "source": [
    "sys.path.append('../scripts/')"
   ]
  },
  {
   "cell_type": "code",
   "execution_count": null,
   "id": "bbf65712-b60d-48dd-926f-8acd89ab8768",
   "metadata": {},
   "outputs": [],
   "source": [
    "from dp_policy_agent import *"
   ]
  },
  {
   "cell_type": "code",
   "execution_count": null,
   "id": "7975934a-0cac-4ea8-9987-911539deba86",
   "metadata": {},
   "outputs": [],
   "source": [
    "class QAgent(DpPolicyAgent):\n",
    "    def __init__(self, time_interval, estimator, goal, puddle_coeff=100, widths=np.array([0.2,0.2,math.pi/18]).T,\\\n",
    "                lowerleft=np.array([-4,-4]).T, upperright=np.array([4,4]).T):\n",
    "        super().__init__(time_interval, estimator, goal, puddle_coeff, widths, lowerleft, upperright)"
   ]
  },
  {
   "cell_type": "code",
   "execution_count": null,
   "id": "55183588-74f9-40a0-977b-b30a548fc49d",
   "metadata": {},
   "outputs": [],
   "source": [
    "def trial(): \n",
    "    time_interval = 0.1\n",
    "    world = PuddleWorld(400000, time_interval, debug=False)  #長時間アニメーション時間をとる\n",
    "\n",
    "    ## 地図を生成して3つランドマークを追加 ##\n",
    "    m = Map()\n",
    "    for ln in [(-4,2), (2,-3), (4,4), (-4,-4)]: m.append_landmark(Landmark(*ln))\n",
    "    world.append(m)   \n",
    "\n",
    "    ##ゴールの追加##\n",
    "    goal = Goal(-3,-3) \n",
    "    world.append(goal)\n",
    "    \n",
    "    ##水たまりの追加##\n",
    "    world.append(Puddle((-2, 0), (0, 2), 0.1)) \n",
    "    world.append(Puddle((-0.5, -2), (2.5, 1), 0.1)) \n",
    "\n",
    "    ##ロボットを1台登場させる##\n",
    "    init_pose = np.array([3, 3, 0]).T\n",
    "    kf = KalmanFilter(m, init_pose)\n",
    "    a = QAgent(time_interval, kf, goal)\n",
    "    r = Robot(init_pose, sensor=Camera(m, distance_bias_rate_stddev=0, direction_bias_stddev=0), \n",
    "              agent=a, color=\"red\", bias_rate_stds=(0,0))\n",
    "    world.append(r)\n",
    "    \n",
    "    world.draw()\n",
    "    return a\n",
    "    \n",
    "a = trial()"
   ]
  },
  {
   "cell_type": "markdown",
   "id": "23eec2fd",
   "metadata": {},
   "source": [
    "# 11.1.3 set up Q"
   ]
  },
  {
   "cell_type": "code",
   "execution_count": null,
   "id": "5175f1fc",
   "metadata": {},
   "outputs": [],
   "source": [
    "class Steteinfo:\n",
    "    '''\n",
    "    class for keeping Q values\n",
    "    '''\n",
    "    def __init__(self, action_num=3):\n",
    "        self.q = np.zeros(action_num)\n",
    "    \n",
    "    def greedy(self):\n",
    "        return np.argmax(self.q)\n",
    "    \n",
    "    def pi(self):\n",
    "        return self.greedy()"
   ]
  },
  {
   "cell_type": "code",
   "execution_count": null,
   "id": "dae3c673",
   "metadata": {},
   "outputs": [],
   "source": []
  }
 ],
 "metadata": {
  "kernelspec": {
   "display_name": "study",
   "language": "python",
   "name": "study"
  },
  "language_info": {
   "codemirror_mode": {
    "name": "ipython",
    "version": 3
   },
   "file_extension": ".py",
   "mimetype": "text/x-python",
   "name": "python",
   "nbconvert_exporter": "python",
   "pygments_lexer": "ipython3",
   "version": "3.9.7"
  }
 },
 "nbformat": 4,
 "nbformat_minor": 5
}
