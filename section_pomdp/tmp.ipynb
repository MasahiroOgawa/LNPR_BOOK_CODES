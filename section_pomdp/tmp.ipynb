{
 "cells": [
  {
   "cell_type": "code",
   "execution_count": null,
   "metadata": {},
   "outputs": [],
   "source": [
    "import sys \n",
    "sys.path.append('../scripts/')\n",
    "from qmdp import *\n",
    "from sensor_reset_mcl import *"
   ]
  },
  {
   "cell_type": "code",
   "execution_count": null,
   "metadata": {},
   "outputs": [],
   "source": [
    "class PfcAgent(QmdpAgent):   ###pfc3 （3, 6, 8−11行目）\n",
    "    def __init__(self, time_interval, estimator, goal, puddles, sampling_num=10, widths=np.array([0.2, 0.2, math.pi/18]).T, \\\n",
    "                 puddle_coef=100.0, lowerleft=np.array([-4, -4]).T, upperright=np.array([4, 4]).T, magnitude=2):  #magnitudeを追加\n",
    "        super().__init__(time_interval, estimator, goal, puddles, sampling_num, widths, puddle_coef, lowerleft, upperright)\n",
    "        \n",
    "        self.magnitude = magnitude #追加\n",
    "        \n",
    "    def evaluation(self, action, indexes): #メソッドを追加\n",
    "        v = self.dp.value_function                                                                                 #名前が長いのでvという別名をつける\n",
    "        vs = [abs(v[i]) if abs(v[i]) > 0.0 else 1e-10 for i in indexes]                        #PFCの式の分母\n",
    "        qs = [self.dp.action_value(action, i, out_penalty=False) for i in indexes]   #QMDPの値\n",
    "        \n",
    "        return sum([q/(v**self.magnitude) for (v,q) in zip(vs, qs)])  #式の上ではlen(indexes)で割る必要があるが省略\n",
    "      #  return sum([q for (v,q) in zip(vs, qs)])  #式の上ではlen(indexes)で割る必要があるが省略\n",
    "        \n",
    "    def policy(self, pose, goal=None):\n",
    "        for p in self.estimator.particles:\n",
    "            if self.goal.inside(p.pose): p.weight *= 1e-10\n",
    "        self.estimator.resampling()\n",
    "        \n",
    "        return  super().policy(pose, goal)"
   ]
  },
  {
   "cell_type": "code",
   "execution_count": null,
   "metadata": {},
   "outputs": [],
   "source": [
    "def trial(animation):\n",
    "    time_interval = 0.1\n",
    "    world = PuddleWorld(120, time_interval, debug=not animation) \n",
    "\n",
    "    ##ランドマークの追加（1個だけ）##\n",
    "    m = Map()\n",
    "    m.append_landmark(Landmark(0,0))\n",
    "    world.append(m) \n",
    "    \n",
    "    ##ゴール##\n",
    "    goal = Goal(-1.5,-1.5)\n",
    "    world.append(goal)\n",
    "    \n",
    "    ##ロボットを作る##\n",
    "    pf = ResetMcl(m, [-10, -10, 0], 1000)              #誘拐状態から始める（すぐセンサリセットされる）\n",
    "    a = PfcAgent(time_interval, pf, goal, [])           #水たまりはナシに。空のリストを渡す\n",
    "    r = Robot(np.array([3.5, 3.5, np.pi]).T, sensor=Camera(m), agent=a, color=\"red\")\n",
    "\n",
    "    world.append(r)\n",
    "    world.draw()\n",
    "    world.ani.save('/tmp/anm.gif', writer='imagemagick', fps=10)\n",
    "trial(True)"
   ]
  },
  {
   "cell_type": "code",
   "execution_count": null,
   "metadata": {},
   "outputs": [],
   "source": []
  }
 ],
 "metadata": {
  "kernelspec": {
   "display_name": "Python 3",
   "language": "python",
   "name": "python3"
  },
  "language_info": {
   "codemirror_mode": {
    "name": "ipython",
    "version": 3
   },
   "file_extension": ".py",
   "mimetype": "text/x-python",
   "name": "python",
   "nbconvert_exporter": "python",
   "pygments_lexer": "ipython3",
   "version": "3.7.4"
  }
 },
 "nbformat": 4,
 "nbformat_minor": 2
}
