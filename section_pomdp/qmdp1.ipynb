{
 "cells": [
  {
   "cell_type": "code",
   "execution_count": null,
   "metadata": {},
   "outputs": [],
   "source": [
    "import sys ###qmdp1header\n",
    "sys.path.append('../scripts/')\n",
    "from dp_policy_agent import *\n",
    "from dynamic_programming import * #追加"
   ]
  },
  {
   "cell_type": "code",
   "execution_count": null,
   "metadata": {},
   "outputs": [],
   "source": [
    "class QmdpAgent(DpPolicyAgent): #このセルを追加 ###qmdp1\n",
    "    def __init__(self, time_interval, estimator, goal, puddles, sampling_num=10, widths=np.array([0.2, 0.2, math.pi/18]).T, \\\n",
    "                 puddle_coef=100.0, lowerleft=np.array([-4, -4]).T, upperright=np.array([4, 4]).T): \n",
    "        super().__init__(time_interval, estimator, goal, puddle_coef, widths, lowerleft, upperright)\n",
    "        \n",
    "        self.dp = DynamicProgramming(widths, goal, puddles, time_interval, sampling_num) #DPのオブジェクトを持たせる\n",
    "        self.dp.value_function = self.init_value()                                                                            #ファイルから読み込んで価値関数をセット\n",
    "        \n",
    "    def init_value(self): #追加\n",
    "        tmp = np.zeros(self.dp.index_nums)\n",
    "        for line in open(\"value.txt\", \"r\"):\n",
    "            d = line.split()\n",
    "            tmp[int(d[0]), int(d[1]), int(d[2])] = float(d[3])\n",
    "            \n",
    "        return tmp"
   ]
  },
  {
   "cell_type": "code",
   "execution_count": null,
   "metadata": {},
   "outputs": [],
   "source": [
    "def trial(animation):  ###qmdp1trial（20行目）\n",
    "    time_interval = 0.1\n",
    "    world = PuddleWorld(30, time_interval, debug=not animation) \n",
    "\n",
    "    ##ランドマークの追加（意地悪な位置に）##\n",
    "    m = Map()\n",
    "    for ln in [(1,4), (4,1), (-4,-4)]: m.append_landmark(Landmark(*ln))\n",
    "    world.append(m)        \n",
    "    \n",
    "    ##ゴール・水たまりの追加（これは特に変更なし）##\n",
    "    goal = Goal(-3,-3)\n",
    "    puddles = [Puddle((-2, 0), (0, 2), 0.1), Puddle((-0.5, -2), (2.5, 1), 0.1)] \n",
    "    world.append(goal)\n",
    "    world.append(puddles[0]) \n",
    "    world.append(puddles[1])\n",
    "    \n",
    "    ##ロボットを作る##\n",
    "    init_pose = np.array([2.5, 2.5, 0]).T\n",
    "    pf = Mcl(m, init_pose, 100)\n",
    "    a = QmdpAgent(time_interval, pf, goal, puddles)                             #変更\n",
    "    r = Robot(init_pose, sensor=Camera(m), agent=a, color=\"red\")\n",
    "    world.append(r)\n",
    "    world.draw()\n",
    "    \n",
    "    return a"
   ]
  },
  {
   "cell_type": "code",
   "execution_count": null,
   "metadata": {},
   "outputs": [],
   "source": [
    "a = trial(True) #qmdp1exec\n",
    "a.dp.value_function"
   ]
  },
  {
   "cell_type": "code",
   "execution_count": null,
   "metadata": {},
   "outputs": [],
   "source": []
  },
  {
   "cell_type": "code",
   "execution_count": null,
   "metadata": {},
   "outputs": [],
   "source": []
  }
 ],
 "metadata": {
  "kernelspec": {
   "display_name": "Python 3",
   "language": "python",
   "name": "python3"
  },
  "language_info": {
   "codemirror_mode": {
    "name": "ipython",
    "version": 3
   },
   "file_extension": ".py",
   "mimetype": "text/x-python",
   "name": "python",
   "nbconvert_exporter": "python",
   "pygments_lexer": "ipython3",
   "version": "3.7.4"
  }
 },
 "nbformat": 4,
 "nbformat_minor": 2
}
