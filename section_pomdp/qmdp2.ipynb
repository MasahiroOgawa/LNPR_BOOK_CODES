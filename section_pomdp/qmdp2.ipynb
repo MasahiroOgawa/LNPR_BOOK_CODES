{
 "cells": [
  {
   "cell_type": "code",
   "execution_count": null,
   "metadata": {},
   "outputs": [],
   "source": [
    "import sys\n",
    "sys.path.append('../scripts/')\n",
    "from dp_policy_agent import *\n",
    "from dynamic_programming import *"
   ]
  },
  {
   "cell_type": "code",
   "execution_count": null,
   "metadata": {},
   "outputs": [],
   "source": [
    "class QmdpAgent(DpPolicyAgent): ###qmdp2\n",
    "    def __init__(self, time_interval, estimator, goal, puddles, sampling_num=10, widths=np.array([0.2, 0.2, math.pi/18]).T, \\\n",
    "                 puddle_coef=100.0, lowerleft=np.array([-4, -4]).T, upperright=np.array([4, 4]).T): \n",
    "        super().__init__(time_interval, estimator, goal, puddle_coef, widths, lowerleft, upperright)\n",
    "        \n",
    "        self.dp = DynamicProgramming(widths, goal, puddles, time_interval, sampling_num)\n",
    "        self.dp.value_function = self.init_value()\n",
    "        self.evaluations = np.array([0.0, 0.0, 0.0]) #Q_MDP値を入れる。描画用\n",
    "        self.current_value = 0.0                                 #現在の状態価値の平均値を入れる。描画用\n",
    "        \n",
    "    def init_value(self):\n",
    "        tmp = np.zeros(self.dp.index_nums)\n",
    "        for line in open(\"value.txt\", \"r\"):\n",
    "            d = line.split()\n",
    "            tmp[int(d[0]), int(d[1]), int(d[2])] = float(d[3])\n",
    "            \n",
    "        return tmp\n",
    "    \n",
    "    def evaluation(self, action, indexes):  #これ以降追加\n",
    "        return sum([self.dp.action_value(action, i, out_penalty=False) for i in indexes])/len(indexes) #パーティクルの重みの正規化が前提\n",
    "        \n",
    "    def policy(self, pose, goal=None):\n",
    "        indexes = [self.to_index(p.pose, self.pose_min, self.index_nums, self.widths) for p in self.estimator.particles]\n",
    "        self.current_value = sum([self.dp.value_function[i] for i in indexes])/len(indexes) #描画用に計算\n",
    "        self.evaluations = [self.evaluation(a, indexes) for a in self.dp.actions]\n",
    "        return self.dp.actions[np.argmax(self.evaluations)]\n",
    "    \n",
    "    def draw(self, ax, elems):\n",
    "        super().draw(ax, elems)\n",
    "        elems.append(ax.text(-4.5, -4.6, \"{:.3} => [{:.3}, {:.3}, {:.3}]\".format(self.current_value, *self.evaluations), fontsize=8))"
   ]
  },
  {
   "cell_type": "code",
   "execution_count": null,
   "metadata": {},
   "outputs": [],
   "source": [
    "def trial(animation):\n",
    "    time_interval = 0.1\n",
    "    world = PuddleWorld(30, time_interval, debug=not animation) \n",
    "\n",
    "    ##ランドマークの追加（意地悪な位置に）##\n",
    "    m = Map()\n",
    "    for ln in [(1,4), (4,1), (-4,-4)]: m.append_landmark(Landmark(*ln))\n",
    "    world.append(m) \n",
    "    \n",
    "    ##ゴール・水たまりの追加（これは特に変更なし）##\n",
    "    goal = Goal(-3,-3)\n",
    "    puddles = [Puddle((-2, 0), (0, 2), 0.1), Puddle((-0.5, -2), (2.5, 1), 0.1)] \n",
    "    world.append(goal)\n",
    "    world.append(puddles[0]) \n",
    "    world.append(puddles[1])\n",
    "    \n",
    "    ##ロボットを作る##\n",
    "    init_pose = np.array([2.5, 2.5, 0]).T\n",
    "    pf = Mcl(m, init_pose, 100)\n",
    "    a = QmdpAgent(time_interval, pf, goal, puddles) \n",
    "    r = Robot(init_pose, sensor=Camera(m), agent=a, color=\"red\")\n",
    "\n",
    "    world.append(r)\n",
    "    world.draw()\n",
    "    \n",
    "    return a"
   ]
  },
  {
   "cell_type": "code",
   "execution_count": null,
   "metadata": {},
   "outputs": [],
   "source": [
    "a = trial(True) "
   ]
  },
  {
   "cell_type": "code",
   "execution_count": null,
   "metadata": {},
   "outputs": [],
   "source": []
  }
 ],
 "metadata": {
  "kernelspec": {
   "display_name": "Python 3",
   "language": "python",
   "name": "python3"
  },
  "language_info": {
   "codemirror_mode": {
    "name": "ipython",
    "version": 3
   },
   "file_extension": ".py",
   "mimetype": "text/x-python",
   "name": "python",
   "nbconvert_exporter": "python",
   "pygments_lexer": "ipython3",
   "version": "3.7.0"
  }
 },
 "nbformat": 4,
 "nbformat_minor": 2
}
