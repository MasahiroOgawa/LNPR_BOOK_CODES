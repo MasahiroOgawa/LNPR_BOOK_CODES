{
 "cells": [
  {
   "cell_type": "markdown",
   "id": "90137115",
   "metadata": {},
   "source": [
    "# Fast SLAM"
   ]
  },
  {
   "cell_type": "markdown",
   "id": "71b7d878",
   "metadata": {},
   "source": [
    "## 8.3 implement paricle filter"
   ]
  },
  {
   "cell_type": "code",
   "execution_count": 1,
   "id": "0d1a02ec",
   "metadata": {},
   "outputs": [],
   "source": [
    "import sys\n",
    "sys.path.append('../scripts/')\n",
    "from kf import * # this also import Mcl class"
   ]
  },
  {
   "cell_type": "code",
   "execution_count": 2,
   "id": "98bf1ee0",
   "metadata": {},
   "outputs": [],
   "source": [
    "class FastSlam(Mcl):\n",
    "    def __init__(self, envmap, init_pose, num_particle, num_landmark, motion_noise_stds={\"nn\":0.19, \"no\":0.001, \"on\":0.13, \"oo\":0.2},                  \n",
    "                 distance_dev_rate=0.14, direction_dev=0.05):\n",
    "        super().__init__(envmap, init_pose, num_particle, motion_noise_stds, distance_dev_rate, direction_dev)"
   ]
  },
  {
   "cell_type": "code",
   "execution_count": 3,
   "id": "e438ebd8",
   "metadata": {},
   "outputs": [],
   "source": [
    "def trial():\n",
    "    time_interval = 0.1\n",
    "    world = World(30, time_interval, debug = False)\n",
    "    \n",
    "    m = Map()\n",
    "    for landmark in [(-4,2),(2,-3),(3,3)]: \n",
    "        m.append_landmark((Landmark(*landmark)))\n",
    "    world.append(m)\n",
    "    \n",
    "    init_pose = np.array([0,0,0]).T\n",
    "    num_particle = 100\n",
    "    fastslam = FastSlam(m, init_pose, num_particle, len(m.landmarks))\n",
    "    nu = 0.2\n",
    "    omega = 10.0/180*math.pi\n",
    "    agent = EstimationAgent(time_interval, nu, omega, fastslam) # in Mcl class\n",
    "    robot = Robot(init_pose, sensor=Camera(m), agent=agent, color='red')\n",
    "    world.append(robot)\n",
    "    \n",
    "    world.draw()"
   ]
  },
  {
   "cell_type": "code",
   "execution_count": 4,
   "id": "3938cc5d",
   "metadata": {},
   "outputs": [
    {
     "data": {
      "application/vnd.jupyter.widget-view+json": {
       "model_id": "c5704c5742644657959fd42e293c6be2",
       "version_major": 2,
       "version_minor": 0
      },
      "image/png": "[encoded data removed]",
      "text/plain": [
       "Canvas(toolbar=Toolbar(toolitems=[('Home', 'Reset original view', 'home', 'home'), ('Back', 'Back to previous …"
      ]
     },
     "metadata": {},
     "output_type": "display_data"
    }
   ],
   "source": [
    "%matplotlib widget\n",
    "trial()"
   ]
  },
  {
   "cell_type": "code",
   "execution_count": 26,
   "id": "97457fa8-b890-4f12-b1b7-d90f401266db",
   "metadata": {},
   "outputs": [],
   "source": [
    "class EstimatedLandmark(Landmark):\n",
    "    def __init__(self):\n",
    "        super().__init__(0,0)\n",
    "        self.cov = np.array([[1,0],[0,2]])\n",
    "        \n",
    "    def draw(self, ax, elems):\n",
    "        if self.cov is None:\n",
    "            return\n",
    "        \n",
    "        center = ax.scatter(self.pos[0], self.pos[1], s=100, marker=\"*\", label=\"landmarks\", color=\"blue\")\n",
    "        elems.append(center)\n",
    "        elems.append(ax.text(self.pos[0], self.pos[1], \"id:\"+str(self.id), fontsize=10))\n",
    "        \n",
    "        ellipse = sigma_ellipse(self,pos, self.cov, 3)\n",
    "        elems.append(ax.add_patch(ellipse))"
   ]
  },
  {
   "cell_type": "code",
   "execution_count": 27,
   "id": "b9ae3a0a",
   "metadata": {},
   "outputs": [],
   "source": [
    "class MapParticle(Particle):\n",
    "    def __init__(self, init_pose, weight, landmark_num):\n",
    "        super().__init__(init_pose, weight)\n",
    "        \n",
    "        self.map = Map()\n",
    "        for i in range(landmark_num):\n",
    "            self.map.append_landmark(EstimatedLandmark())"
   ]
  },
  {
   "cell_type": "code",
   "execution_count": 28,
   "id": "bca3796e",
   "metadata": {},
   "outputs": [],
   "source": [
    "class FastSlam(Mcl):\n",
    "    def __init__(self, envmap, init_pose, num_particle, num_landmark, motion_noise_stds={\"nn\":0.19, \"no\":0.001, \"on\":0.13, \"oo\":0.2},                  \n",
    "                 distance_dev_rate=0.14, direction_dev=0.05):\n",
    "        super().__init__(envmap, init_pose, num_particle, motion_noise_stds, distance_dev_rate, direction_dev)\n",
    "        self.particles = [MapParticle(init_pose, 1.0/num_particle, num_landmark) for i in range(num_particle)]\n",
    "        self.maxlikelihood = self.particles[0] # temporally\n",
    "        \n",
    "    def draw(self, ax, elems):\n",
    "        super().draw(ax, elems)\n",
    "        self.maxlikelihood.map.draw(ax, elems)"
   ]
  },
  {
   "cell_type": "code",
   "execution_count": 30,
   "id": "c386b2c1",
   "metadata": {},
   "outputs": [
    {
     "data": {
      "application/vnd.jupyter.widget-view+json": {
       "model_id": "9a16f37492d242669ab6acfb06a579e8",
       "version_major": 2,
       "version_minor": 0
      },
      "image/png": "[encoded data removed]",
      "text/plain": [
       "Canvas(toolbar=Toolbar(toolitems=[('Home', 'Reset original view', 'home', 'home'), ('Back', 'Back to previous …"
      ]
     },
     "metadata": {},
     "output_type": "display_data"
    }
   ],
   "source": [
    "trial()"
   ]
  },
  {
   "cell_type": "code",
   "execution_count": null,
   "id": "97a751a7-fda3-4884-a2dc-3e49fdb0e720",
   "metadata": {},
   "outputs": [],
   "source": []
  }
 ],
 "metadata": {
  "kernelspec": {
   "display_name": "study",
   "language": "python",
   "name": "study"
  },
  "language_info": {
   "codemirror_mode": {
    "name": "ipython",
    "version": 3
   },
   "file_extension": ".py",
   "mimetype": "text/x-python",
   "name": "python",
   "nbconvert_exporter": "python",
   "pygments_lexer": "ipython3",
   "version": "3.9.7"
  }
 },
 "nbformat": 4,
 "nbformat_minor": 5
}
