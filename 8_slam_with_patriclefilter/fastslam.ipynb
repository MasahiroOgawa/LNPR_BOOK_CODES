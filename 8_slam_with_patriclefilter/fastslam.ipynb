{
 "cells": [
  {
   "cell_type": "markdown",
   "id": "90137115",
   "metadata": {},
   "source": [
    "# Fast SLAM"
   ]
  },
  {
   "cell_type": "markdown",
   "id": "71b7d878",
   "metadata": {},
   "source": [
    "## 8.3 implement paricle filter"
   ]
  },
  {
   "cell_type": "code",
   "execution_count": null,
   "id": "0d1a02ec",
   "metadata": {},
   "outputs": [],
   "source": [
    "import sys\n",
    "sys.path.append('../scripts/')\n",
    "from kf import * # this also import Mcl class\n",
    "%matplotlib widget"
   ]
  },
  {
   "cell_type": "code",
   "execution_count": null,
   "id": "98bf1ee0",
   "metadata": {},
   "outputs": [],
   "source": [
    "class FastSlam(Mcl):\n",
    "    def __init__(self, envmap, init_pose, num_particle, num_landmark, motion_noise_stds={\"nn\":0.19, \"no\":0.001, \"on\":0.13, \"oo\":0.2},                  \n",
    "                 distance_dev_rate=0.14, direction_dev=0.05):\n",
    "        super().__init__(envmap, init_pose, num_particle, motion_noise_stds, distance_dev_rate, direction_dev)"
   ]
  },
  {
   "cell_type": "code",
   "execution_count": null,
   "id": "e438ebd8",
   "metadata": {},
   "outputs": [],
   "source": [
    "def trial(cambias=True):\n",
    "    time_interval = 0.1\n",
    "    world = World(30, time_interval, debug = False)\n",
    "    \n",
    "    m = Map() # defined in ideal_robot.py\n",
    "    for landmark in [(-4,2),(2,-3),(3,3)]: \n",
    "        m.append_landmark((Landmark(*landmark)))\n",
    "    world.append(m)\n",
    "    \n",
    "    init_pose = np.array([0,0,0]).T\n",
    "    num_particle = 100\n",
    "    fastslam = FastSlam(m, init_pose, num_particle, len(m.landmarks))\n",
    "    nu = 0.2\n",
    "    omega = 10.0/180*math.pi\n",
    "    agent = EstimationAgent(time_interval, nu, omega, fastslam) # in Mcl class\n",
    "    \n",
    "    if cambias:\n",
    "        robot = Robot(init_pose, sensor=Camera(m), agent=agent, color='red')\n",
    "    else:\n",
    "        robot = Robot(init_pose, sensor=Camera(m,distance_bias_rate_stddev=0,direction_bias_stddev=0), agent=agent, color='red')\n",
    "    \n",
    "    world.append(robot)\n",
    "    \n",
    "    world.draw()"
   ]
  },
  {
   "cell_type": "code",
   "execution_count": null,
   "id": "3938cc5d",
   "metadata": {},
   "outputs": [],
   "source": [
    "trial(cambias=False)"
   ]
  },
  {
   "cell_type": "code",
   "execution_count": null,
   "id": "97457fa8-b890-4f12-b1b7-d90f401266db",
   "metadata": {},
   "outputs": [],
   "source": [
    "class EstimatedLandmark(Landmark):\n",
    "    def __init__(self):\n",
    "        super().__init__(0,0)\n",
    "        self.cov = np.array([[1,0],[0,2]])\n",
    "        \n",
    "    def draw(self, ax, elems):\n",
    "        if self.cov is None:\n",
    "            return\n",
    "        \n",
    "        center = ax.scatter(self.pos[0], self.pos[1], s=100, marker=\"*\", label=\"landmarks\", color=\"blue\")\n",
    "        elems.append(center)\n",
    "        elems.append(ax.text(self.pos[0], self.pos[1], \"id:\"+str(self.id), fontsize=10))\n",
    "        \n",
    "        ellipse = sigma_ellipse(self.pos, self.cov, 3)\n",
    "        elems.append(ax.add_patch(ellipse))"
   ]
  },
  {
   "cell_type": "code",
   "execution_count": null,
   "id": "b9ae3a0a",
   "metadata": {},
   "outputs": [],
   "source": [
    "class MapParticle(Particle):\n",
    "    def __init__(self, init_pose, weight, landmark_num):\n",
    "        super().__init__(init_pose, weight)\n",
    "        \n",
    "        self.map = Map()\n",
    "        for i in range(landmark_num):\n",
    "            self.map.append_landmark(EstimatedLandmark())"
   ]
  },
  {
   "cell_type": "code",
   "execution_count": null,
   "id": "bca3796e",
   "metadata": {},
   "outputs": [],
   "source": [
    "class FastSlam(Mcl):\n",
    "    def __init__(self, envmap, init_pose, num_particle, num_landmark, motion_noise_stds={\"nn\":0.19, \"no\":0.001, \"on\":0.13, \"oo\":0.2},                  \n",
    "                 distance_dev_rate=0.14, direction_dev=0.05):\n",
    "        super().__init__(envmap, init_pose, num_particle, motion_noise_stds, distance_dev_rate, direction_dev)\n",
    "        self.particles = [MapParticle(init_pose, 1.0/num_particle, num_landmark) for i in range(num_particle)] # redefine Mcl's particles\n",
    "        self.ml = self.particles[0] # redefine Mcl's ml(maximum likelihood). \n",
    "        \n",
    "    def draw(self, ax, elems):\n",
    "        super().draw(ax, elems)\n",
    "        self.ml.map.draw(ax, elems)"
   ]
  },
  {
   "cell_type": "code",
   "execution_count": null,
   "id": "c386b2c1",
   "metadata": {},
   "outputs": [],
   "source": [
    "trial()"
   ]
  },
  {
   "cell_type": "markdown",
   "id": "e274ac86-b08b-4982-94e6-4518f978ed6b",
   "metadata": {},
   "source": [
    "# 8.4 implement landmark position estimation"
   ]
  },
  {
   "cell_type": "code",
   "execution_count": null,
   "id": "4f3827fe-5b72-4503-a809-ed2710665244",
   "metadata": {},
   "outputs": [],
   "source": [
    "class EstimatedLandmark(Landmark): # add cov to Landmark.\n",
    "    def __init__(self):\n",
    "        super().__init__(0,0)\n",
    "        self.cov = None\n",
    "        \n",
    "    def draw(self, ax, elems):\n",
    "        if self.cov is None:\n",
    "            return\n",
    "        \n",
    "        center = ax.scatter(self.pos[0], self.pos[1], s=100, marker=\"*\", label=\"landmarks\", color=\"blue\")\n",
    "        elems.append(center)\n",
    "        elems.append(ax.text(self.pos[0], self.pos[1], \"id:\"+str(self.id), fontsize=10))\n",
    "        \n",
    "        ellipse = sigma_ellipse(self.pos, self.cov, 3)\n",
    "        elems.append(ax.add_patch(ellipse))"
   ]
  },
  {
   "cell_type": "code",
   "execution_count": null,
   "id": "b853afdd-8a4f-4553-885d-48f0d2dbb560",
   "metadata": {},
   "outputs": [],
   "source": [
    "class MapParticle(Particle):\n",
    "    def __init__(self, init_pose, weight, landmark_num):\n",
    "        super().__init__(init_pose, weight)\n",
    "        \n",
    "        self.map = Map() # defined in IdealRobot.py\n",
    "        for i in range(landmark_num):\n",
    "            self.map.append_landmark(EstimatedLandmark())\n",
    "            \n",
    "                \n",
    "    def init_landmark_estimation(self, landmark, z, distance_dev_rate, direction_dev):\n",
    "        landmark.pos = (z[0] * np.array([np.cos(self.pose[2]+z[1]), \n",
    "                                        np.sin(self.pose[2]+z[1])]).T \n",
    "                        + self.pose[0:2]) # z=(x,y,phi), self.pose=(x,y,theta)\n",
    "        H = -matH(self.pose, landmark.pos)[0:2,0:2] # in kf.py\n",
    "        Q = matQ(distance_dev_rate*z[0], direction_dev)\n",
    "        landmark.cov = np.linalg.inv(H.T.dot(np.linalg.inv(Q).dot(H)))\n",
    "        \n",
    "    def observation_update(self, observation, distance_dev_rate, direction_dev):\n",
    "        for d in observation:\n",
    "            z = d[0]\n",
    "            landmark = self.map.landmarks[d[1]]\n",
    "            \n",
    "            if landmark.cov is None:\n",
    "                self.init_landmark_estimation(landmark, z, distance_dev_rate, direction_dev)\n",
    "            else:\n",
    "                self.observation_update_landmark(landmark, z, distance_dev_rate, direction_dev)\n",
    "                \n",
    "    def observation_update_landmark(self, landmark, z, distance_dev_rate, direction_dev):\n",
    "        est_z = IdealCamera.observation_function(self.pose, landmark.pos) #h(m^)\n",
    "        if est_z[0] < 0.01:\n",
    "            return\n",
    "        \n",
    "        H = -matH(self.pose, landmark.pos)[0:2,0:2]\n",
    "        Q = matQ(distance_dev_rate * est_z[0], direction_dev)\n",
    "        K = landmark.cov.dot(H.T).dot(np.linalg.inv(Q + H.dot(landmark.cov).dot(H.T)))\n",
    "        landmark.pos += K.dot(z - est_z)\n",
    "        landmark.cov = (np.eye(2) - K.dot(H)).dot(landmark.cov)"
   ]
  },
  {
   "cell_type": "code",
   "execution_count": null,
   "id": "28e99e91-e743-4675-a51e-7f298902ccce",
   "metadata": {},
   "outputs": [],
   "source": [
    "class FastSlam(Mcl):\n",
    "    def __init__(self, init_pose, num_particle, num_landmark, motion_noise_stds={\"nn\":0.19, \"no\":0.001, \"on\":0.13, \"oo\":0.2},                  \n",
    "                 distance_dev_rate=0.14, direction_dev=0.05):\n",
    "        super().__init__(None, init_pose, num_particle, motion_noise_stds, distance_dev_rate, direction_dev) # let envmap None.\n",
    "        self.particles = [MapParticle(init_pose, 1.0/num_particle, num_landmark) for i in range(num_particle)]\n",
    "        self.ml = self.particles[0] # temporally\n",
    "        \n",
    "    def draw(self, ax, elems):\n",
    "        super().draw(ax, elems)\n",
    "        self.ml.map.draw(ax, elems)\n",
    "        \n",
    "    def observation_update(self, observation):\n",
    "        for p in self.particles:\n",
    "            p.observation_update(observation, self.distance_dev_rate, self.direction_dev) #MapParticle's function\n",
    "        self.set_ml() # defined in Mcl.\n",
    "        self.resampling()"
   ]
  },
  {
   "cell_type": "code",
   "execution_count": null,
   "id": "89dbeb81-4e2b-4e9d-ae73-9bb5a6658b1a",
   "metadata": {},
   "outputs": [],
   "source": [
    "def trial(cambias=True):\n",
    "    time_interval = 0.1\n",
    "    world = World(30, time_interval, debug = False)\n",
    "    \n",
    "    map = Map() # defined in ideal_robot.py\n",
    "    for landmark in [(-4,2),(2,-3),(3,3)]: \n",
    "        map.append_landmark((Landmark(*landmark)))\n",
    "    world.append(map)\n",
    "    \n",
    "    init_pose = np.array([0,0,0]).T\n",
    "    num_particle = 100\n",
    "    fastslam = FastSlam(init_pose, num_particle, len(map.landmarks)) # delete map.\n",
    "    nu = 0.2 \n",
    "    omega = 10.0/180*math.pi\n",
    "    agent = EstimationAgent(time_interval, nu, omega, fastslam) # in Mcl class\n",
    "    \n",
    "    if cambias:\n",
    "        robot = Robot(init_pose, sensor=Camera(map), agent=agent, color='red')\n",
    "    else:\n",
    "        robot = Robot(init_pose, sensor=Camera(map,distance_bias_rate_stddev=0,direction_bias_stddev=0), agent=agent, color='red')\n",
    "    \n",
    "    world.append(robot)\n",
    "    \n",
    "    world.draw()"
   ]
  },
  {
   "cell_type": "code",
   "execution_count": null,
   "id": "06a645cd-27f0-44ac-b82e-28098655e24a",
   "metadata": {},
   "outputs": [],
   "source": [
    "trial()"
   ]
  },
  {
   "cell_type": "code",
   "execution_count": null,
   "id": "267a01fe-ed9c-4929-914c-56cc03877ec8",
   "metadata": {},
   "outputs": [],
   "source": [
    "trial(cambias=False)"
   ]
  },
  {
   "cell_type": "markdown",
   "id": "32a5e569-3f30-4293-beb9-ffe17068f9ac",
   "metadata": {},
   "source": [
    "# 8.5 update particle's weight"
   ]
  },
  {
   "cell_type": "code",
   "execution_count": null,
   "id": "a24694bb-bceb-4b39-9ff8-35143a53b399",
   "metadata": {},
   "outputs": [],
   "source": [
    "class MapParticle(Particle):\n",
    "    def __init__(self, init_pose, weight, landmark_num):\n",
    "        super().__init__(init_pose, weight)\n",
    "        \n",
    "        self.map = Map() # defined in IdealRobot.py\n",
    "        for i in range(landmark_num):\n",
    "            self.map.append_landmark(EstimatedLandmark())\n",
    "            \n",
    "                \n",
    "    def init_landmark_estimation(self, landmark, z, distance_dev_rate, direction_dev):\n",
    "        landmark.pos = (z[0] * np.array([np.cos(self.pose[2]+z[1]), \n",
    "                                        np.sin(self.pose[2]+z[1])]).T \n",
    "                        + self.pose[0:2]) # z=(x,y,phi), self.pose=(x,y,theta)\n",
    "        H = -matH(self.pose, landmark.pos)[0:2,0:2] # in kf.py\n",
    "        Q = matQ(distance_dev_rate*z[0], direction_dev)\n",
    "        landmark.cov = np.linalg.inv(H.T.dot(np.linalg.inv(Q).dot(H)))\n",
    "        \n",
    "    def observation_update(self, observation, distance_dev_rate, direction_dev):\n",
    "        for d in observation:\n",
    "            z = d[0]\n",
    "            landmark = self.map.landmarks[d[1]]\n",
    "            \n",
    "            if landmark.cov is None:\n",
    "                self.init_landmark_estimation(landmark, z, distance_dev_rate, direction_dev)\n",
    "            else:\n",
    "                self.observation_update_landmark(landmark, z, distance_dev_rate, direction_dev)\n",
    "                \n",
    "    def observation_update_landmark(self, landmark, z, distance_dev_rate, direction_dev):\n",
    "        est_z = IdealCamera.observation_function(self.pose, landmark.pos) #h(m^)\n",
    "        if est_z[0] < 0.01:\n",
    "            return\n",
    "        \n",
    "        # landmark update\n",
    "        H = -matH(self.pose, landmark.pos)[0:2,0:2]\n",
    "        Q = matQ(distance_dev_rate * est_z[0], direction_dev)\n",
    "        K = landmark.cov.dot(H.T).dot(np.linalg.inv(Q + H.dot(landmark.cov).dot(H.T)))\n",
    "        landmark.pos += K.dot(z - est_z)\n",
    "        landmark.cov = (np.eye(2) - K.dot(H)).dot(landmark.cov)\n",
    "        \n",
    "        # trajectory(weight) update\n",
    "        Q_z = H.dot(landmark.cov).dot(H.T) + Q\n",
    "        self.weight *= multivariate_normal(mean=est_z, cov=Q_z).pdf(z)\n"
   ]
  },
  {
   "cell_type": "code",
   "execution_count": null,
   "id": "c1b8c5ab-2eda-4b37-82f9-961efcea3c57",
   "metadata": {},
   "outputs": [],
   "source": [
    "trial(cambias=False)"
   ]
  },
  {
   "cell_type": "code",
   "execution_count": null,
   "id": "d1e16c4f-39be-41de-a4f7-9f85930e535a",
   "metadata": {},
   "outputs": [],
   "source": [
    "trial()"
   ]
  }
 ],
 "metadata": {
  "kernelspec": {
   "display_name": "study",
   "language": "python",
   "name": "study"
  },
  "language_info": {
   "codemirror_mode": {
    "name": "ipython",
    "version": 3
   },
   "file_extension": ".py",
   "mimetype": "text/x-python",
   "name": "python",
   "nbconvert_exporter": "python",
   "pygments_lexer": "ipython3",
   "version": "3.9.7"
  }
 },
 "nbformat": 4,
 "nbformat_minor": 5
}
