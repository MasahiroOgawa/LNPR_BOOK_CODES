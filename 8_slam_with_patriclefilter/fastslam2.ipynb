{
 "cells": [
  {
   "cell_type": "markdown",
   "id": "ef33291d-372e-4ddd-a3b8-aac828e6e50b",
   "metadata": {},
   "source": [
    "# FastSLAM2.0"
   ]
  },
  {
   "cell_type": "code",
   "execution_count": 8,
   "id": "85c901fe-4056-421a-b638-e8176626c1ab",
   "metadata": {},
   "outputs": [],
   "source": [
    "import sys\n",
    "sys.path.append('../scripts/')\n",
    "from kf import * # this also import Mcl class\n",
    "%matplotlib widget"
   ]
  },
  {
   "cell_type": "code",
   "execution_count": 9,
   "id": "d3365aa8-b51a-4890-b98b-d18e6cc077e2",
   "metadata": {},
   "outputs": [],
   "source": [
    "class EstimatedLandmark(Landmark): # add cov to Landmark.\n",
    "    def __init__(self):\n",
    "        super().__init__(0,0)\n",
    "        self.cov = None\n",
    "        \n",
    "    def draw(self, ax, elems):\n",
    "        if self.cov is None:\n",
    "            return\n",
    "        \n",
    "        center = ax.scatter(self.pos[0], self.pos[1], s=100, marker=\"*\", label=\"landmarks\", color=\"blue\")\n",
    "        elems.append(center)\n",
    "        elems.append(ax.text(self.pos[0], self.pos[1], \"id:\"+str(self.id), fontsize=10))\n",
    "        \n",
    "        ellipse = sigma_ellipse(self.pos, self.cov, 3)\n",
    "        elems.append(ax.add_patch(ellipse))"
   ]
  },
  {
   "cell_type": "code",
   "execution_count": 3,
   "id": "3514216e-e113-47a5-80c9-e133e65aaf2d",
   "metadata": {},
   "outputs": [],
   "source": [
    "class MapParticle(Particle):\n",
    "    def __init__(self, init_pose, weight, landmark_num):\n",
    "        # same with FastSLAM\n",
    "        super().__init__(init_pose, weight)\n",
    "        \n",
    "        self.map = Map() # defined in IdealRobot.py\n",
    "        for i in range(landmark_num):\n",
    "            self.map.append_landmark(EstimatedLandmark())\n",
    "            \n",
    "                \n",
    "    def init_landmark_estimation(self, landmark, z, distance_dev_rate, direction_dev):\n",
    "        # same with FastSLAM\n",
    "        landmark.pos = (z[0] * np.array([np.cos(self.pose[2]+z[1]), \n",
    "                                        np.sin(self.pose[2]+z[1])]).T \n",
    "                        + self.pose[0:2]) # z=(x,y,phi), self.pose=(x,y,theta)\n",
    "        H = -matH(self.pose, landmark.pos)[0:2,0:2] # in kf.py\n",
    "        Q = matQ(distance_dev_rate*z[0], direction_dev)\n",
    "        landmark.cov = np.linalg.inv(H.T.dot(np.linalg.inv(Q).dot(H)))\n",
    "\n",
    "                        \n",
    "    def observation_update_landmark(self, landmark, z, distance_dev_rate, direction_dev):\n",
    "        est_z = IdealCamera.observation_function(self.pose, landmark.pos) #h(m^)\n",
    "        if est_z[0] < 0.01:\n",
    "            return\n",
    "        \n",
    "        # landmark update\n",
    "        H = -matH(self.pose, landmark.pos)[0:2,0:2]\n",
    "        Q = matQ(distance_dev_rate * est_z[0], direction_dev)\n",
    "        K = landmark.cov.dot(H.T).dot(np.linalg.inv(Q + H.dot(landmark.cov).dot(H.T)))\n",
    "        landmark.pos += K.dot(z - est_z) #(8.39)\n",
    "        landmark.cov = (np.eye(2) - K.dot(H)).dot(landmark.cov) #(8.40)\n",
    " \n",
    "        # weight update is implemented in motion_update2 for FastSLAM2\n",
    "        # # trajectory(weight) update\n",
    "        # Q_z = H.dot(landmark.cov).dot(H.T) + Q\n",
    "        # self.weight *= multivariate_normal(mean=est_z, cov=Q_z).pdf(z)\n",
    "        \n",
    "    def observation_update(self, observation, distance_dev_rate, direction_dev):\n",
    "        # same with FastSLAM\n",
    "        for d in observation:\n",
    "            z = d[0] #landmark's (l,phi)\n",
    "            landmark = self.map.landmarks[d[1]]\n",
    "            \n",
    "            if landmark.cov is None:\n",
    "                self.init_landmark_estimation(landmark, z, distance_dev_rate, direction_dev)\n",
    "            else:\n",
    "                self.observation_update_landmark(landmark, z, distance_dev_rate, direction_dev)\n",
    "        \n",
    "    def motion_update2(self, nu, omega, time, motion_noise_stds, observation, distance_dev_rate, direction_dev): \n",
    "        # prediction + landmark correction\n",
    "        # add observation, motion_noise_stds to motion_update()\n",
    "        M = matM(nu, omega, time, motion_noise_stds) # covariance of u. 2x2\n",
    "        A = matA(nu, omega, time, self.pose[2]) # map: u->x 2x2\n",
    "        R_t = A.dot(M).dot(A.T) # covariance of x. 2x2\n",
    "        x_hat = IdealRobot.state_transition(nu, omega, time, self.pose) \n",
    "        # time means dt after self.pose was computed. dim=2 (8.58)\n",
    "        \n",
    "        # correction\n",
    "        for obs in observation:\n",
    "            # weight update\n",
    "            zt_hat, Q_zt, H_xt = self.drawing_params(x_hat, self.map.landmarks[obs[1]], distance_dev_rate, direction_dev)\n",
    "            Sigma_zt = H_xt.dot(R_t).dot(H_xt.T) + Q_zt # eq (8.77)\n",
    "            self.weight *= multivariate_normal(mean=zt_hat, cov=Sigma_zt).pdf(obs[0]) #(8.79)\n",
    "            \n",
    "            # position correction as drawing.\n",
    "            x_hat, R_t = self.gauss_for_drawing(x_hat, R_t, obs[0], self.map.landmarks[obs[1]], distance_dev_rate, direction_dev)\n",
    "        \n",
    "        # add dim3 \n",
    "        R_t +=np.eye(3)*1.0e-10\n",
    "        \n",
    "        self.pose = multivariate_normal(mean=x_hat, cov=R_t).rvs()\n",
    "        \n",
    "    # note: Here draw means extract one particle from the distribution. \n",
    "    def gauss_for_drawing(self, x_hat, R_t, z, landmark, distance_dev_rate, direction_dev):\n",
    "        zt_hat, Q_zt, H_xt = self.drawing_params(x_hat, landmark, distance_dev_rate, direction_dev)\n",
    "        K = R_t.dot(H_xt.T).dot(np.linalg.inv(Q_zt + H_xt.dot(R_t).dot(H_xt.T))) #(8.68)\n",
    "        mu_t = K.dot(z - zt_hat) + x_hat #(8.69)\n",
    "        Sigma_t = (np.eye(3) - K.dot(H_xt)).dot(R_t) #(8.70)\n",
    "        \n",
    "        return mu_t, Sigma_t \n",
    "\n",
    "    def drawing_params(self, x_hat, landmark, distance_dev_rate, direction_dev):\n",
    "        # linearlize h(x,m)\n",
    "        d_landmark = np.hypot(*(x_hat[0:2] - landmark.pos))\n",
    "        Q_zt_hat = matQ(distance_dev_rate*d_landmark, direction_dev)\n",
    "\n",
    "        ##パーティクルの姿勢と地図からセンサ値の分布の共分散行列を計算##\n",
    "        zt_hat = IdealCamera.observation_function(x_hat, landmark.pos)\n",
    "        H_m = - matH(x_hat, landmark.pos)[0:2,0:2] #(8.62)\n",
    "        H_xt = matH(x_hat, landmark.pos) #(8.63)       \n",
    "        Q_zt = H_m.dot(landmark.cov).dot(H_m.T) + Q_zt_hat #(8.65)        \n",
    "        \n",
    "        return zt_hat, Q_zt, H_xt"
   ]
  },
  {
   "cell_type": "code",
   "execution_count": 4,
   "id": "563df616-50a8-485a-a84e-ade94890d458",
   "metadata": {},
   "outputs": [],
   "source": [
    "class FastSlam2Agent(EstimationAgent): #EstimationAgent is in mcl.py, which is Agent+Estimator.  \n",
    "    def __init__(self, time_interval, nu, omega, estimator):\n",
    "        super().__init__(time_interval, nu, omega, estimator)\n",
    "        \n",
    "    def decision(self, observation=None): \n",
    "        self.estimator.motion_update(self.prev_nu, self.prev_omega, self.time_interval, observation) #add an observation.\n",
    "        self.prev_nu, self.prev_omega = self.nu, self.omega\n",
    "        self.estimator.observation_update(observation)\n",
    "        return self.nu, self.omega"
   ]
  },
  {
   "cell_type": "code",
   "execution_count": 5,
   "id": "5d73f862-f61e-4466-afc0-33c4e5a283a0",
   "metadata": {},
   "outputs": [],
   "source": [
    "class FastSlam2(Mcl):\n",
    "    def __init__(self, init_pose, num_particle, num_landmark, motion_noise_stds={\"nn\":0.19, \"no\":0.001, \"on\":0.13, \"oo\":0.2},                  \n",
    "                 distance_dev_rate=0.14, direction_dev=0.05):\n",
    "        #same with FastSlam\n",
    "        super().__init__(None, init_pose, num_particle, motion_noise_stds, distance_dev_rate, direction_dev) # let envmap None.\n",
    "        self.particles = [MapParticle(init_pose, 1.0/num_particle, num_landmark) for i in range(num_particle)]\n",
    "        self.ml = self.particles[0] # temporally\n",
    "        self.motion_noise_stds = motion_noise_stds # add to use in motion_update2()\n",
    "        \n",
    "    def draw(self, ax, elems): \n",
    "        #same with FastSlam\n",
    "        super().draw(ax, elems)\n",
    "        self.ml.map.draw(ax, elems)\n",
    "        \n",
    "    def observation_update(self, observation): \n",
    "        #same with FastSlam\n",
    "        for p in self.particles:\n",
    "            p.observation_update(observation, self.distance_dev_rate, self.direction_dev) #MapParticle's function\n",
    "        self.set_ml() # defined in Mcl.\n",
    "        self.resampling()\n",
    "        \n",
    "    def motion_update(self, nu, omega, time, observation):\n",
    "        not_first_obs = []\n",
    "        for obs in observation:\n",
    "            if self.particles[0].map.landmarks[obs[1]].cov is not None: # check first particle's map covariance\n",
    "                not_first_obs.append(obs)\n",
    "                \n",
    "        if len(not_first_obs) > 0:\n",
    "            for p in self.particles:\n",
    "                p.motion_update2(nu, omega, time, \\\n",
    "                                 self.motion_noise_stds, not_first_obs, \\\n",
    "                                 self.distance_dev_rate, self.direction_dev) # Mcl's one.\n",
    "        else:\n",
    "            for p in self.particles: # use Mcl's motion_update().\n",
    "                p.motion_update(nu, omega, time, \\\n",
    "                                self.motion_noise_rate_pdf) # Mcl's one. "
   ]
  },
  {
   "cell_type": "code",
   "execution_count": 12,
   "id": "c71180e3-f1e7-4766-831b-5fa833040a63",
   "metadata": {},
   "outputs": [],
   "source": [
    "def trial(cambias=True):\n",
    "    time_interval = 0.1\n",
    "    world = World(30, time_interval, debug = False)\n",
    "    \n",
    "    map = Map() # defined in ideal_robot.py\n",
    "    for landmark in [(-4,2),(2,-3),(3,3)]: \n",
    "        map.append_landmark((Landmark(*landmark)))\n",
    "    world.append(map)\n",
    "    \n",
    "    init_pose = np.array([0,0,0]).T\n",
    "    num_particle = 10\n",
    "    fastslam = FastSlam2(init_pose, num_particle, len(map.landmarks)) # delete map.\n",
    "    nu = 0.2 \n",
    "    omega = 10.0/180*math.pi\n",
    "    agent = FastSlam2Agent(time_interval, nu, omega, fastslam) \n",
    "    \n",
    "    if cambias:\n",
    "        robot = Robot(init_pose, sensor=Camera(map), agent=agent, color='red')\n",
    "    else:\n",
    "        robot = Robot(init_pose, sensor=Camera(map,distance_bias_rate_stddev=0,direction_bias_stddev=0), agent=agent, color='red')\n",
    "    \n",
    "    world.append(robot)\n",
    "    \n",
    "    world.draw()"
   ]
  },
  {
   "cell_type": "code",
   "execution_count": 13,
   "id": "09268705-9f23-4936-bacc-bee3be5b47b9",
   "metadata": {},
   "outputs": [
    {
     "data": {
      "application/vnd.jupyter.widget-view+json": {
       "model_id": "9cd80613dc30408cb50e055d5828772b",
       "version_major": 2,
       "version_minor": 0
      },
      "image/png": "[encoded data removed]",
      "text/plain": [
       "Canvas(toolbar=Toolbar(toolitems=[('Home', 'Reset original view', 'home', 'home'), ('Back', 'Back to previous …"
      ]
     },
     "metadata": {},
     "output_type": "display_data"
    }
   ],
   "source": [
    "trial()"
   ]
  },
  {
   "cell_type": "code",
   "execution_count": 17,
   "id": "a3ab9513-4570-434b-8a09-f48c3123405a",
   "metadata": {},
   "outputs": [
    {
     "data": {
      "application/vnd.jupyter.widget-view+json": {
       "model_id": "8bcde7de98144cc8bf47ca82ba2d5769",
       "version_major": 2,
       "version_minor": 0
      },
      "image/png": "[encoded data removed]",
      "text/plain": [
       "Canvas(toolbar=Toolbar(toolitems=[('Home', 'Reset original view', 'home', 'home'), ('Back', 'Back to previous …"
      ]
     },
     "metadata": {},
     "output_type": "display_data"
    }
   ],
   "source": [
    "trial(cambias=False)"
   ]
  },
  {
   "cell_type": "code",
   "execution_count": null,
   "id": "0913b618-73b1-444f-9ade-888cb83a98ee",
   "metadata": {},
   "outputs": [],
   "source": []
  }
 ],
 "metadata": {
  "kernelspec": {
   "display_name": "study",
   "language": "python",
   "name": "study"
  },
  "language_info": {
   "codemirror_mode": {
    "name": "ipython",
    "version": 3
   },
   "file_extension": ".py",
   "mimetype": "text/x-python",
   "name": "python",
   "nbconvert_exporter": "python",
   "pygments_lexer": "ipython3",
   "version": "3.9.4"
  }
 },
 "nbformat": 4,
 "nbformat_minor": 5
}
