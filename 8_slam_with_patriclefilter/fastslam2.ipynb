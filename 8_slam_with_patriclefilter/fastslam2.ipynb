{
 "cells": [
  {
   "cell_type": "markdown",
   "id": "ef33291d-372e-4ddd-a3b8-aac828e6e50b",
   "metadata": {},
   "source": [
    "# FastSLAM2.0"
   ]
  },
  {
   "cell_type": "code",
   "execution_count": null,
   "id": "85c901fe-4056-421a-b638-e8176626c1ab",
   "metadata": {},
   "outputs": [],
   "source": [
    "import sys\n",
    "sys.path.append('../scripts/')\n",
    "from kf import * # this also import Mcl class\n",
    "%matplotlib widget"
   ]
  },
  {
   "cell_type": "code",
   "execution_count": null,
   "id": "563df616-50a8-485a-a84e-ade94890d458",
   "metadata": {},
   "outputs": [],
   "source": [
    "class FastSlam2Agent(EstimationAgent): #EstimationAgent is in mcl.py\n",
    "    def __init__(self, time_interval, nu, omega, estimator):\n",
    "        super().__init__(time_interval, nu, omega, estimator)\n",
    "        \n",
    "    def decision(self, observation=None):\n",
    "        self.estimator.motion_update(self.prev_nu, self.prev_omega, self.time_interval, observation)\n",
    "        self.prev_nu, self.prev_omega = self.nu, self.omega\n",
    "        self.estimator.observation_update(observation)\n",
    "        return self.nu, self.omega"
   ]
  }
 ],
 "metadata": {
  "kernelspec": {
   "display_name": "study",
   "language": "python",
   "name": "study"
  },
  "language_info": {
   "codemirror_mode": {
    "name": "ipython",
    "version": 3
   },
   "file_extension": ".py",
   "mimetype": "text/x-python",
   "name": "python",
   "nbconvert_exporter": "python",
   "pygments_lexer": "ipython3",
   "version": "3.9.7"
  }
 },
 "nbformat": 4,
 "nbformat_minor": 5
}
