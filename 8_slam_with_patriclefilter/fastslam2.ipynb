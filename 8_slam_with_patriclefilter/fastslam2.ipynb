{
 "cells": [
  {
   "cell_type": "markdown",
   "id": "ef33291d-372e-4ddd-a3b8-aac828e6e50b",
   "metadata": {},
   "source": [
    "# FastSLAM2.0"
   ]
  },
  {
   "cell_type": "code",
   "execution_count": 1,
   "id": "85c901fe-4056-421a-b638-e8176626c1ab",
   "metadata": {},
   "outputs": [],
   "source": [
    "import sys\n",
    "sys.path.append('../scripts/')\n",
    "from kf import * # this also import Mcl class\n",
    "%matplotlib widget"
   ]
  },
  {
   "cell_type": "code",
   "execution_count": 2,
   "id": "563df616-50a8-485a-a84e-ade94890d458",
   "metadata": {},
   "outputs": [],
   "source": [
    "class FastSlam2Agent(EstimationAgent): #EstimationAgent is in mcl.py, which is Agent+Estimator.  \n",
    "    def __init__(self, time_interval, nu, omega, estimator):\n",
    "        super().__init__(time_interval, nu, omega, estimator)\n",
    "        \n",
    "    def decision(self, observation=None): \n",
    "        self.estimator.motion_update(self.prev_nu, self.prev_omega, self.time_interval, observation) #add an observation.\n",
    "        self.prev_nu, self.prev_omega = self.nu, self.omega\n",
    "        self.estimator.observation_update(observation)\n",
    "        return self.nu, self.omega"
   ]
  },
  {
   "cell_type": "code",
   "execution_count": null,
   "id": "5d73f862-f61e-4466-afc0-33c4e5a283a0",
   "metadata": {},
   "outputs": [],
   "source": [
    "class FastSlam2(Mcl):\n",
    "    def __init__(self, init_pose, num_particle, num_landmark, motion_noise_stds={\"nn\":0.19, \"no\":0.001, \"on\":0.13, \"oo\":0.2},                  \n",
    "                 distance_dev_rate=0.14, direction_dev=0.05):\n",
    "        super().__init__(None, init_pose, num_particle, motion_noise_stds, distance_dev_rate, direction_dev) # let envmap None.\n",
    "        self.particles = [MapParticle(init_pose, 1.0/num_particle, num_landmark) for i in range(num_particle)]\n",
    "        self.ml = self.particles[0] # temporally\n",
    "        self.motion_noise_stds = motion_noise_stds # add to use in motion_update2()\n",
    "        \n",
    "    def draw(self, ax, elems): #same with FastSlam\n",
    "        super().draw(ax, elems)\n",
    "        self.ml.map.draw(ax, elems)\n",
    "        \n",
    "    def observation_update(self, observation): #same with FastSlam\n",
    "        for p in self.particles:\n",
    "            p.observation_update(observation, self.distance_dev_rate, self.direction_dev) #MapParticle's function\n",
    "        self.set_ml() # defined in Mcl.\n",
    "        self.resampling()\n",
    "        \n",
    "    def motion_update(self, nu, omega, time, observation):\n",
    "        not_first_obs = []\n",
    "        for obs in observation:\n",
    "            if self.particles[0].map.landmarks[obs[1]].cov is not None: # check first particle's map covariance\n",
    "                not_first_obs.append(obs)\n",
    "                \n",
    "        if len(not_first_obs) > 0:\n",
    "            for p in self.particles:\n",
    "                p.motion_update2(nu, omega, time, \\\n",
    "                                 self.motion_noise_stds, not_first_obs, \\\n",
    "                                 self.distance_dev_rate, self.direction_dev) # Mcl's one.\n",
    "        else:\n",
    "            for p in self.particles: # use Mcl's motion_update().\n",
    "                p.motion_update(nu, omega, \\\n",
    "                                self.motion_noise_rate_pdf) # Mcl's one. "
   ]
  }
 ],
 "metadata": {
  "kernelspec": {
   "display_name": "study",
   "language": "python",
   "name": "study"
  },
  "language_info": {
   "codemirror_mode": {
    "name": "ipython",
    "version": 3
   },
   "file_extension": ".py",
   "mimetype": "text/x-python",
   "name": "python",
   "nbconvert_exporter": "python",
   "pygments_lexer": "ipython3",
   "version": "3.9.4"
  }
 },
 "nbformat": 4,
 "nbformat_minor": 5
}
