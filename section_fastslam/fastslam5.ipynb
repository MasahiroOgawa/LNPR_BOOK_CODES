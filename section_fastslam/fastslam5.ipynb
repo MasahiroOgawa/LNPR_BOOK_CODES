{
 "cells": [
  {
   "cell_type": "code",
   "execution_count": null,
   "metadata": {},
   "outputs": [],
   "source": [
    "import sys  \n",
    "sys.path.append('../scripts/')\n",
    "from mcl import *\n",
    "from kf import * \n",
    "%matplotlib widget"
   ]
  },
  {
   "cell_type": "code",
   "execution_count": null,
   "metadata": {},
   "outputs": [],
   "source": [
    "class EstimatedLandmark(Landmark):\n",
    "    def __init__(self):\n",
    "        super().__init__(0,0) \n",
    "        self.cov = None #変更\n",
    "        \n",
    "    def draw(self, ax, elems): \n",
    "        if self.cov is None:\n",
    "            return\n",
    "        \n",
    "        ##推定位置に青い星を描く##\n",
    "        c = ax.scatter(self.pos[0], self.pos[1], s=100, marker=\"*\", label=\"landmarks\", color=\"blue\")\n",
    "        elems.append(c)\n",
    "        elems.append(ax.text(self.pos[0], self.pos[1], \"id:\" + str(self.id), fontsize=10))\n",
    "        \n",
    "        ##誤差楕円を描く##\n",
    "        e = sigma_ellipse(self.pos, self.cov, 3)\n",
    "        elems.append(ax.add_patch(e))"
   ]
  },
  {
   "cell_type": "code",
   "execution_count": null,
   "metadata": {},
   "outputs": [],
   "source": [
    "class MapParticle(Particle):  \n",
    "    def __init__(self, init_pose, weight, landmark_num):\n",
    "        super().__init__(init_pose, weight)\n",
    "        self.map = Map()\n",
    "        \n",
    "        for i in range(landmark_num):\n",
    "            self.map.append_landmark(EstimatedLandmark())\n",
    "            \n",
    "    def init_landmark_estimation(self, landmark, z, distance_dev_rate, direction_dev):\n",
    "        landmark.pos = z[0]*np.array([np.cos(self.pose[2] + z[1]), np.sin(self.pose[2]  + z[1])]).T + self.pose[0:2]\n",
    "        H = matH(self.pose, landmark.pos)[0:2,0:2]             #カルマンフィルタのHの左上2x2を取り出す\n",
    "        Q = matQ(distance_dev_rate*z[0], direction_dev)\n",
    "        landmark.cov = np.linalg.inv(H.T.dot( np.linalg.inv(Q) ).dot(H))\n",
    "        \n",
    "    def observation_update_landmark(self, landmark, z, distance_dev_rate, direction_dev):\n",
    "        estm_z = IdealCamera.observation_function(self.pose, landmark.pos) #ランドマークの推定位置から予想される計測値\n",
    "        if estm_z[0] < 0.01:  # 推定位置が近すぎると計算がおかしくなるので回避\n",
    "            return\n",
    "\n",
    "        H = - matH(self.pose, landmark.pos)[0:2,0:2] #ここは符号の整合性が必要\n",
    "        Q = matQ(distance_dev_rate*estm_z[0], direction_dev)\n",
    "        K = landmark.cov.dot(H.T).dot( np.linalg.inv(Q + H.dot(landmark.cov).dot(H.T)) )\n",
    "        \n",
    "        ##重みの更新#           ###fastslam5\n",
    "        Q_z = H.dot(landmark.cov).dot(H.T) + Q                                                    #追加\n",
    "        self.weight *= multivariate_normal(mean=estm_z, cov=Q_z).pdf(z)    #追加\n",
    "        \n",
    "        ##ランドマークの推定の更新##\n",
    "        landmark.pos = K.dot(z - estm_z) + landmark.pos\n",
    "        landmark.cov = (np.eye(2) - K.dot(H)).dot(landmark.cov)\n",
    "        \n",
    "    def observation_update(self, observation, distance_dev_rate, direction_dev): \n",
    "        for d in observation:\n",
    "            z = d[0]\n",
    "            landmark = self.map.landmarks[d[1]]\n",
    "            \n",
    "            if landmark.cov is None:\n",
    "                self.init_landmark_estimation(landmark, z, distance_dev_rate, direction_dev)\n",
    "            else:\n",
    "                self.observation_update_landmark(landmark, z, distance_dev_rate, direction_dev)"
   ]
  },
  {
   "cell_type": "code",
   "execution_count": null,
   "metadata": {},
   "outputs": [],
   "source": [
    "class FastSlam(Mcl):\n",
    "    def __init__(self, init_pose, particle_num, landmark_num, motion_noise_stds={\"nn\":0.19, \"no\":0.001, \"on\":0.13, \"oo\":0.2}, \\\n",
    "                 distance_dev_rate=0.14, direction_dev=0.05):\n",
    "        super().__init__(None, init_pose, particle_num, motion_noise_stds, distance_dev_rate, direction_dev)\n",
    "        \n",
    "        self.particles = [MapParticle(init_pose, 1.0/particle_num, landmark_num) for i in range(particle_num)]\n",
    "        self.ml = self.particles[0]\n",
    "        \n",
    "    def observation_update(self, observation):  \n",
    "        for p in self.particles:\n",
    "            p.observation_update(observation, self.distance_dev_rate, self.direction_dev) #self.mapを削除\n",
    "        self.set_ml()\n",
    "        self.resampling() \n",
    "        \n",
    "    def draw(self, ax, elems):\n",
    "        super().draw(ax, elems)\n",
    "        self.ml.map.draw(ax, elems)"
   ]
  },
  {
   "cell_type": "code",
   "execution_count": null,
   "metadata": {},
   "outputs": [],
   "source": [
    "def trial():\n",
    "    time_interval = 0.1\n",
    "    world = World(30, time_interval, debug=False) \n",
    "\n",
    "    ###真の地図を作成###\n",
    "    m = Map()\n",
    "    for ln in [(-4,2), (2,-3), (3,3)]: m.append_landmark(Landmark(*ln))\n",
    "    world.append(m)\n",
    "\n",
    "    ### ロボットを作る ###\n",
    "    init_pose = np.array([0,0,0]).T\n",
    "    pf = FastSlam(init_pose, 100, len(m.landmarks)) \n",
    "    a = EstimationAgent(time_interval, 0.2, 10.0/180*math.pi, pf)\n",
    "    r = Robot(init_pose, sensor=Camera(m), agent=a, color=\"red\")\n",
    "    world.append(r)\n",
    "\n",
    "    world.draw()\n",
    "    \n",
    "trial()"
   ]
  },
  {
   "cell_type": "code",
   "execution_count": null,
   "metadata": {},
   "outputs": [],
   "source": [
    "def trial():\n",
    "    time_interval = 3\n",
    "    world = World(30, time_interval, debug=False) \n",
    "\n",
    "    ###真の地図を作成###\n",
    "    m = Map()\n",
    "    for ln in [(-4,2), (2,-3), (3,3)]: m.append_landmark(Landmark(*ln))\n",
    "    world.append(m)\n",
    "\n",
    "    ### ロボットを作る ###\n",
    "    init_pose = np.array([0,0,0]).T\n",
    "    pf = FastSlam(init_pose, 100, len(m.landmarks)) \n",
    "    a = EstimationAgent(time_interval, 0.2, 10.0/180*math.pi, pf)\n",
    "    r = Robot(init_pose, sensor=Camera(m), agent=a, color=\"red\")\n",
    "    world.append(r)\n",
    "\n",
    "    world.draw()\n",
    "    \n",
    "#trial()"
   ]
  },
  {
   "cell_type": "code",
   "execution_count": null,
   "metadata": {},
   "outputs": [],
   "source": []
  }
 ],
 "metadata": {
  "kernelspec": {
   "display_name": "study",
   "language": "python",
   "name": "study"
  },
  "language_info": {
   "codemirror_mode": {
    "name": "ipython",
    "version": 3
   },
   "file_extension": ".py",
   "mimetype": "text/x-python",
   "name": "python",
   "nbconvert_exporter": "python",
   "pygments_lexer": "ipython3",
   "version": "3.9.7"
  }
 },
 "nbformat": 4,
 "nbformat_minor": 4
}
