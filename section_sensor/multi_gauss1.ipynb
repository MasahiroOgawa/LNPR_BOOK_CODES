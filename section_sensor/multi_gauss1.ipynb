{
 "cells": [
  {
   "cell_type": "code",
   "execution_count": null,
   "metadata": {},
   "outputs": [],
   "source": [
    "import pandas as pd    ###2dgauss###\n",
    "import seaborn as sns\n",
    "import matplotlib.pyplot as plt\n",
    "\n",
    "data  = pd.read_csv(\"sensor_data_700.txt\", delimiter=\" \", \n",
    "                    header=None, names = (\"date\",\"time\",\"ir\",\"lidar\"))\n",
    "\n",
    "d = data[ (data[\"time\"] < 160000) & (data[\"time\"] >= 120000) ] #12時から16時までのデータだけ抽出\n",
    "d = d.loc[:, [\"ir\", \"lidar\"]]\n",
    "\n",
    "sns.jointplot(d[\"ir\"], d[\"lidar\"], d, kind=\"kde\")\n",
    "plt.show()"
   ]
  },
  {
   "cell_type": "code",
   "execution_count": null,
   "metadata": {},
   "outputs": [],
   "source": [
    "print(\"光センサの計測値の分散:\", d.ir.var()) ###coveach###\n",
    "print(\"LiDARの計測値の分散:\", d.lidar.var())\n",
    "\n",
    "diff_ir = d.ir - d.ir.mean()\n",
    "diff_lidar = d.lidar - d.lidar.mean()\n",
    "    \n",
    "a = diff_ir * diff_lidar\n",
    "print(\"共分散:\", sum(a)/(len(d)-1))\n",
    "\n",
    "d.mean()"
   ]
  },
  {
   "cell_type": "code",
   "execution_count": null,
   "metadata": {},
   "outputs": [],
   "source": [
    "d.cov() ###covonce###"
   ]
  },
  {
   "cell_type": "code",
   "execution_count": null,
   "metadata": {},
   "outputs": [],
   "source": [
    "from scipy.stats import multivariate_normal   ###multivariatenormal###\n",
    "\n",
    "irlidar = multivariate_normal(mean=d.mean().values.T, cov=d.cov().values)"
   ]
  },
  {
   "cell_type": "code",
   "execution_count": null,
   "metadata": {},
   "outputs": [],
   "source": [
    "import numpy as np                ###contour###\n",
    " \n",
    "x, y = np.mgrid[0:40, 710:750]     #2次元平面に均等にX座標、Y座標を作る\n",
    "pos = np.empty(x.shape + (2,))     #xは40x40の2次元リストで、これに3次元目を加えて40x40x2のリストを作成\n",
    "pos[:, :, 0] = x                                   #加えた3次元目にx,yを代入\n",
    "pos[:, :, 1] = y\n",
    "cont = plt.contour(x, y, irlidar.pdf(pos)) #x, y座標と、それに対応する密度を算出\n",
    "cont.clabel(fmt='%1.1e')                         #等高線に値を書き込むためのフォーマット指定\n",
    "\n",
    "plt.show()   #描画"
   ]
  },
  {
   "cell_type": "code",
   "execution_count": null,
   "metadata": {},
   "outputs": [],
   "source": [
    "print(\"X座標:\", x)   ###grid###\n",
    "print(\"Y座標:\", y)"
   ]
  },
  {
   "cell_type": "code",
   "execution_count": null,
   "metadata": {},
   "outputs": [],
   "source": [
    "c = d.cov().values + np.array([[0, 20], [20,0]])    ###covadd###\n",
    "tmp = multivariate_normal(mean=d.mean().values.T, cov=c)\n",
    "cont = plt.contour(x, y, tmp.pdf(pos)) \n",
    "plt.show() "
   ]
  }
 ],
 "metadata": {
  "kernelspec": {
   "display_name": "Python 3",
   "language": "python",
   "name": "python3"
  },
  "language_info": {
   "codemirror_mode": {
    "name": "ipython",
    "version": 3
   },
   "file_extension": ".py",
   "mimetype": "text/x-python",
   "name": "python",
   "nbconvert_exporter": "python",
   "pygments_lexer": "ipython3",
   "version": "3.7.4"
  }
 },
 "nbformat": 4,
 "nbformat_minor": 2
}
