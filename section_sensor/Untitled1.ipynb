{
 "cells": [
  {
   "cell_type": "code",
   "execution_count": null,
   "metadata": {},
   "outputs": [],
   "source": [
    "import numpy as np\n",
    "import matplotlib.pyplot as plt\n",
    "from scipy.stats import multivariate_normal   ###multivariatenormal###\n",
    "\n",
    "irlidar = multivariate_normal(mean=np.array([19.86,729.3]).T, cov=np.array([[42, -10],[-10, 17.7]]))"
   ]
  },
  {
   "cell_type": "code",
   "execution_count": null,
   "metadata": {},
   "outputs": [],
   "source": [
    "import numpy as np                ###contour###\n",
    " \n",
    "x, y = np.mgrid[0:40, 710:750]     #2次元平面に均等にX座標、Y座標を作る\n",
    "pos = np.empty(x.shape + (2,))     #xは40x40の2次元リストで、これに3次元目を加えて40x40x2のリストを作成\n",
    "pos[:, :, 0] = x                                   #加えた3次元目にx,yを代入\n",
    "pos[:, :, 1] = y\n",
    "cont = plt.contour(x, y, irlidar.pdf(pos)) #x, y座標と、それに対応する密度を算出\n",
    "cont.clabel(fmt='%1.1e')                         #等高線に値を書き込むためのフォーマット指定\n",
    "\n",
    "plt.show()   #描画"
   ]
  },
  {
   "cell_type": "code",
   "execution_count": null,
   "metadata": {},
   "outputs": [],
   "source": []
  }
 ],
 "metadata": {
  "kernelspec": {
   "display_name": "Python 3",
   "language": "python",
   "name": "python3"
  },
  "language_info": {
   "codemirror_mode": {
    "name": "ipython",
    "version": 3
   },
   "file_extension": ".py",
   "mimetype": "text/x-python",
   "name": "python",
   "nbconvert_exporter": "python",
   "pygments_lexer": "ipython3",
   "version": "3.7.3"
  }
 },
 "nbformat": 4,
 "nbformat_minor": 2
}
