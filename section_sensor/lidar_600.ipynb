{
 "cells": [
  {
   "cell_type": "code",
   "execution_count": null,
   "metadata": {},
   "outputs": [],
   "source": [
    "import pandas as pd       ###hist_600###\n",
    "import matplotlib.pyplot as plt\n",
    "\n",
    "data  = pd.read_csv(\"sensor_data_600.txt\", delimiter=\" \",\n",
    "                    header=None, names = (\"date\",\"time\",\"ir\",\"lidar\"))\n",
    "\n",
    "data[\"lidar\"].hist(bins = max(data[\"lidar\"]) - min(data[\"lidar\"]),align='left')\n",
    "plt.show()"
   ]
  },
  {
   "cell_type": "code",
   "execution_count": null,
   "metadata": {},
   "outputs": [],
   "source": [
    "data.lidar.plot() ###plot_all_data##\n",
    "plt.show()"
   ]
  },
  {
   "cell_type": "code",
   "execution_count": null,
   "metadata": {},
   "outputs": [],
   "source": [
    "data.ir.plot()\n",
    "plt.show()"
   ]
  },
  {
   "cell_type": "code",
   "execution_count": null,
   "metadata": {},
   "outputs": [],
   "source": [
    "data[\"hour\"] = [e//10000 for e in data.time]  ###hourly_mean###\n",
    "d = data.groupby(\"hour\")\n",
    "d.lidar.mean().plot()\n",
    "plt.show()"
   ]
  },
  {
   "cell_type": "code",
   "execution_count": null,
   "metadata": {},
   "outputs": [],
   "source": [
    "d.lidar.get_group(6).hist()     ###two_mode_hist###\n",
    "d.lidar.get_group(14).hist()\n",
    "plt.show()"
   ]
  },
  {
   "cell_type": "code",
   "execution_count": null,
   "metadata": {},
   "outputs": [],
   "source": [
    "each_hour = { i : d.lidar.get_group(i).value_counts().sort_index()  for i in range(24)} #時間ごとにデータフレームを作成  ###calc_joint_probs\n",
    "freqs = pd.concat(each_hour, axis=1) #concatで連結\n",
    "freqs = freqs.fillna(0)     #欠損値(NaN)を0で埋める\n",
    "probs = freqs/len(data) #頻度を確率で\n",
    "\n",
    "probs #表示"
   ]
  },
  {
   "cell_type": "code",
   "execution_count": null,
   "metadata": {},
   "outputs": [],
   "source": [
    "import seaborn as sns   ###2d_hist （下のセルも）\n",
    "\n",
    "sns.heatmap(probs)\n",
    "plt.show()"
   ]
  },
  {
   "cell_type": "code",
   "execution_count": null,
   "metadata": {},
   "outputs": [],
   "source": [
    "sns.jointplot(data[\"hour\"], data[\"lidar\"], data, kind=\"kde\")\n",
    "plt.show()"
   ]
  },
  {
   "cell_type": "code",
   "execution_count": null,
   "metadata": {},
   "outputs": [],
   "source": [
    "p_t = pd.DataFrame(probs.sum())   #各列を合計   \n",
    "p_t.plot()\n",
    "p_t.transpose() #紙面の関係で表を横並びに"
   ]
  },
  {
   "cell_type": "code",
   "execution_count": null,
   "metadata": {},
   "outputs": [],
   "source": [
    "p_t.sum()    # 1になる"
   ]
  },
  {
   "cell_type": "code",
   "execution_count": null,
   "metadata": {},
   "outputs": [],
   "source": [
    "p_z = pd.DataFrame(probs.transpose().sum())        #行と列を転置して各列を合計\n",
    "p_z.plot()\n",
    "p_z.transpose()"
   ]
  },
  {
   "cell_type": "code",
   "execution_count": null,
   "metadata": {},
   "outputs": [],
   "source": [
    "p_z.sum()"
   ]
  },
  {
   "cell_type": "code",
   "execution_count": null,
   "metadata": {},
   "outputs": [],
   "source": [
    "cond_z_t = probs/p_t[0]  #列（時間）ごとにP(t)で割るとP(x|t)となる   ###lidar600cond\n",
    "cond_z_t"
   ]
  },
  {
   "cell_type": "code",
   "execution_count": null,
   "metadata": {},
   "outputs": [],
   "source": [
    "(cond_z_t[6]).plot.bar(color=\"blue\", alpha=0.5)  ###lidar600pxt###\n",
    "(cond_z_t[14]).plot.bar(color=\"orange\", alpha=0.5) \n",
    "plt.show()"
   ]
  },
  {
   "cell_type": "code",
   "execution_count": null,
   "metadata": {},
   "outputs": [],
   "source": [
    "cond_t_z = probs.transpose()/probs.transpose().sum() #行と列を入れ替えて同様に計算するとP(t|z)となる  ###lidar600bayes1\n",
    "\n",
    "print(\"P(z=630) = \", p_z[0][630]) #センサ値が630になる確率（何時かの情報はない）\n",
    "print(\"P(t=13) = \", p_t[0][13]) #時間が13時である確率\n",
    "print(\"P(t=13 | z = 630) = \", cond_t_z[630][13])\n",
    "print(\"Bayes P(z=630 | t = 13) = \", cond_t_z[630][13]*p_z[0][630]/p_t[0][13])\n",
    "\n",
    "print(\"answer P(z=630 | t = 13) = \", cond_z_t[13][630]) #13時にセンサ値が630"
   ]
  },
  {
   "cell_type": "code",
   "execution_count": null,
   "metadata": {},
   "outputs": [],
   "source": [
    "def bayes_estimation(sensor_value, current_estimation):  ###lidar600bayes2\n",
    "    new_estimation = []\n",
    "    for i in range(24):\n",
    "        new_estimation.append(cond_z_t[i][sensor_value]*current_estimation[i])\n",
    "        \n",
    "    return new_estimation/sum(new_estimation) #正規化"
   ]
  },
  {
   "cell_type": "code",
   "execution_count": null,
   "metadata": {},
   "outputs": [],
   "source": [
    "estimation = bayes_estimation(630, p_t[0])  ###lidar600bayesonestep\n",
    "plt.plot(estimation)"
   ]
  },
  {
   "cell_type": "code",
   "execution_count": null,
   "metadata": {},
   "outputs": [],
   "source": [
    "values_5 = [630,632,636] #sensor_data_600.txtから拾ってきた5時台のセンサ値        ###lidar600bayesestm1\n",
    "\n",
    "estimation = p_t[0]\n",
    "for v in values_5:\n",
    "    estimation = bayes_estimation(v, estimation)\n",
    "    \n",
    "plt.plot(estimation)"
   ]
  },
  {
   "cell_type": "code",
   "execution_count": null,
   "metadata": {},
   "outputs": [],
   "source": [
    "values_11 = [617,624,619] #sensor_data_600.txtから拾ってきた11時台のセンサ値        ###lidar600bayesestm2\n",
    "\n",
    "estimation = p_t[0]\n",
    "for v in values_11:\n",
    "    estimation = bayes_estimation(v, estimation)\n",
    "    \n",
    "plt.plot(estimation)"
   ]
  },
  {
   "cell_type": "code",
   "execution_count": null,
   "metadata": {},
   "outputs": [],
   "source": [
    "estimation"
   ]
  },
  {
   "cell_type": "code",
   "execution_count": null,
   "metadata": {},
   "outputs": [],
   "source": []
  }
 ],
 "metadata": {
  "kernelspec": {
   "display_name": "Python 3",
   "language": "python",
   "name": "python3"
  },
  "language_info": {
   "codemirror_mode": {
    "name": "ipython",
    "version": 3
   },
   "file_extension": ".py",
   "mimetype": "text/x-python",
   "name": "python",
   "nbconvert_exporter": "python",
   "pygments_lexer": "ipython3",
   "version": "3.7.4"
  }
 },
 "nbformat": 4,
 "nbformat_minor": 2
}
