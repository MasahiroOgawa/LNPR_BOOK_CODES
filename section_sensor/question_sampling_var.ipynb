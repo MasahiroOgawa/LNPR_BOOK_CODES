{
 "cells": [
  {
   "cell_type": "code",
   "execution_count": null,
   "metadata": {},
   "outputs": [],
   "source": [
    "import pandas as pd    ###dataread###（1〜4行目と出力の上5行くらいを図示）\n",
    "data  = pd.read_csv(\"sensor_data_200.txt\", delimiter=\" \", \n",
    "                    header=None, names = (\"date\",\"time\",\"ir\",\"lidar\"))\n",
    "data"
   ]
  },
  {
   "cell_type": "code",
   "execution_count": null,
   "metadata": {},
   "outputs": [],
   "source": [
    "from scipy.stats import norm\n",
    "import math\n",
    "\n",
    "mu = data[\"lidar\"].mean()\n",
    "var = data[\"lidar\"].var()\n",
    "\n",
    "print(\"平均:\",mu)\n",
    "print(\"不偏分散:\",var)\n",
    "\n",
    "p = norm(loc=mu, scale=math.sqrt(var))"
   ]
  },
  {
   "cell_type": "code",
   "execution_count": null,
   "metadata": {},
   "outputs": [],
   "source": [
    "import numpy as np\n",
    "\n",
    "def sampling(n):\n",
    "    return p.rvs(size=n)\n",
    "\n",
    "def sampling_var(n): #n個サンプリングして標本分散を返す関数\n",
    "    return np.var( sampling(n) ) \n",
    "\n",
    "def unbiased_var(n): #n個サンプリングして不偏分散を返す関数\n",
    "    return np.var( sampling(n) , ddof=1) \n",
    "\n",
    "print(\"標本数3\")\n",
    "print(\"標本分散の平均:\", np.mean([sampling_var(3) for i in range(10000)]))\n",
    "print(\"不偏分散の平均:\", np.mean([unbiased_var(3) for i in range(10000)]))\n",
    "\n",
    "print(\"標本数1000\")\n",
    "print(\"標本分散の平均:\", np.mean([sampling_var(1000) for i in range(10000)]))\n",
    "print(\"不偏分散の平均:\", np.mean([unbiased_var(1000) for i in range(10000)]))"
   ]
  },
  {
   "cell_type": "code",
   "execution_count": null,
   "metadata": {},
   "outputs": [],
   "source": []
  }
 ],
 "metadata": {
  "kernelspec": {
   "display_name": "Python 3",
   "language": "python",
   "name": "python3"
  },
  "language_info": {
   "codemirror_mode": {
    "name": "ipython",
    "version": 3
   },
   "file_extension": ".py",
   "mimetype": "text/x-python",
   "name": "python",
   "nbconvert_exporter": "python",
   "pygments_lexer": "ipython3",
   "version": "3.6.3"
  }
 },
 "nbformat": 4,
 "nbformat_minor": 2
}
