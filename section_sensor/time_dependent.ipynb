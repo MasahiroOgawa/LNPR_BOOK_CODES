{
 "cells": [
  {
   "cell_type": "code",
   "execution_count": null,
   "metadata": {},
   "outputs": [],
   "source": [
    "import pandas as pd\n",
    "import numpy as np\n",
    "import seaborn as sns\n",
    "import matplotlib.pyplot as plt\n",
    "\n",
    "data  = pd.read_csv(\"sensor_data_200.txt\", delimiter=\" \", \n",
    "                    header=None, names = (\"date\",\"time\",\"ir\",\"lidar\"))\n",
    "\n",
    "###計測値の先頭のデータを除去して後ろにくっつけ、\n",
    "###ある計測値の次の計測値のリストを作ってデータフレームに追加\n",
    "data[\"irnext\"] = np.append(data.ir.values[1:], data.ir.values[0]) \n",
    "data[\"lidarnext\"] = np.append(data.lidar.values[1:], data.lidar.values[0])\n",
    "\n",
    "data"
   ]
  },
  {
   "cell_type": "code",
   "execution_count": null,
   "metadata": {},
   "outputs": [],
   "source": [
    "sns.jointplot(data[\"lidar\"], data[\"lidarnext\"], data, kind=\"kde\") ###lidarcor###\n",
    "plt.show()"
   ]
  },
  {
   "cell_type": "code",
   "execution_count": null,
   "metadata": {},
   "outputs": [],
   "source": [
    "d = data[ (data[\"time\"] < 120000) & (data[\"time\"] >= 113000) ]\n",
    "\n",
    "sns.jointplot(d[\"lidar\"], d[\"lidarnext\"], d, kind=\"kde\")\n",
    "plt.show()"
   ]
  },
  {
   "cell_type": "code",
   "execution_count": null,
   "metadata": {},
   "outputs": [],
   "source": [
    "d = data[ (data[\"time\"] < 120000) & (data[\"time\"] >= 113000) ]\n",
    "\n",
    "sns.jointplot(d[\"ir\"], d[\"irnext\"], d, kind=\"kde\")\n",
    "plt.show()"
   ]
  },
  {
   "cell_type": "code",
   "execution_count": null,
   "metadata": {},
   "outputs": [],
   "source": []
  }
 ],
 "metadata": {
  "kernelspec": {
   "display_name": "Python 3",
   "language": "python",
   "name": "python3"
  },
  "language_info": {
   "codemirror_mode": {
    "name": "ipython",
    "version": 3
   },
   "file_extension": ".py",
   "mimetype": "text/x-python",
   "name": "python",
   "nbconvert_exporter": "python",
   "pygments_lexer": "ipython3",
   "version": "3.6.3"
  }
 },
 "nbformat": 4,
 "nbformat_minor": 2
}
