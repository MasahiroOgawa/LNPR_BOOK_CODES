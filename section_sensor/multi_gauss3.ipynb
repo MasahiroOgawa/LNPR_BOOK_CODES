{
 "cells": [
  {
   "cell_type": "code",
   "execution_count": null,
   "metadata": {},
   "outputs": [],
   "source": [
    "%matplotlib inline \n",
    "import matplotlib.pyplot as plt ###variousgauss###\n",
    "import numpy as np                  \n",
    "from scipy.stats import multivariate_normal \n",
    "import math\n",
    "\n",
    "x, y = np.mgrid[0:200, 0:100]\n",
    "pos = np.empty(x.shape + (2,))\n",
    "pos[:, :, 0] = x \n",
    "pos[:, :, 1] = y\n",
    "\n",
    "a = multivariate_normal(mean=[50,50], cov=[[50, 0], [0, 100]])\n",
    "b = multivariate_normal(mean=[100,50], cov=[[125, 0], [0, 25]])\n",
    "c = multivariate_normal(mean=[150,50], cov=[[100, -25*math.sqrt(3)], [-25*math.sqrt(3), 50]])\n",
    "\n",
    "for e in [a,b,c]:\n",
    "    plt.contour(x, y, e.pdf(pos)) \n",
    "\n",
    "plt.gca().set_aspect('equal') #gca: 図を管理しているAxisというオブジェクトを返す\n",
    "plt.gca().set_xlabel('x')\n",
    "plt.gca().set_ylabel('y')"
   ]
  },
  {
   "cell_type": "code",
   "execution_count": null,
   "metadata": {},
   "outputs": [],
   "source": [
    "eig_vals, eig_vec = np.linalg.eig(c.cov) ###eigen###\n",
    "\n",
    "print(\"eig_vals: \", eig_vals)\n",
    "print(\"eig_vec: \", eig_vec)\n",
    "print(\"固有ベクトル1: \", eig_vec[:,0])   #eig_vecの縦の列が固有ベクトルに対応\n",
    "print(\"固有ベクトル2: \", eig_vec[:,1])"
   ]
  },
  {
   "cell_type": "code",
   "execution_count": null,
   "metadata": {},
   "outputs": [],
   "source": [
    "plt.contour(x, y, c.pdf(pos))     ###draweigen###\n",
    "\n",
    "v = 2*math.sqrt(eig_vals[0])*eig_vec[:,0]\n",
    "plt.quiver(c.mean[0], c.mean[1], v[0], v[1], color=\"red\", angles='xy', scale_units='xy', scale=1)\n",
    "\n",
    "v = 2*math.sqrt(eig_vals[1])*eig_vec[:,1]\n",
    "plt.quiver(c.mean[0], c.mean[1], v[0], v[1], color=\"blue\", angles='xy', scale_units='xy', scale=1)\n",
    "\n",
    "plt.gca().set_aspect('equal')\n",
    "plt.show()"
   ]
  },
  {
   "cell_type": "code",
   "execution_count": null,
   "metadata": {},
   "outputs": [],
   "source": [
    "V = eig_vec   #eig_vecには固有ベクトルが並んでいるのでそのまま使える  ###eigenmatrix###\n",
    "L = np.diag(eig_vals)  #np.diagで対角行列を作成\n",
    "\n",
    "print(\"分解したものを計算:\\n\", V.dot(L.dot(np.linalg.inv(V))))\n",
    "print(\"元の共分散行列:\\n\", np.array([[100, -25*math.sqrt(3)], [-25*math.sqrt(3), 50]]))"
   ]
  },
  {
   "cell_type": "code",
   "execution_count": null,
   "metadata": {},
   "outputs": [],
   "source": []
  }
 ],
 "metadata": {
  "kernelspec": {
   "display_name": "Python 3",
   "language": "python",
   "name": "python3"
  },
  "language_info": {
   "codemirror_mode": {
    "name": "ipython",
    "version": 3
   },
   "file_extension": ".py",
   "mimetype": "text/x-python",
   "name": "python",
   "nbconvert_exporter": "python",
   "pygments_lexer": "ipython3",
   "version": "3.7.3"
  }
 },
 "nbformat": 4,
 "nbformat_minor": 2
}
