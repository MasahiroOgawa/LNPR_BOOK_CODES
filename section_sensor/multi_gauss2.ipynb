{
 "cells": [
  {
   "cell_type": "code",
   "execution_count": null,
   "metadata": {},
   "outputs": [],
   "source": [
    "import pandas as pd         ###multigauss2（ノートブック全部）###\n",
    "import seaborn as sns\n",
    "import matplotlib.pyplot as plt\n",
    "\n",
    "data  = pd.read_csv(\"sensor_data_200.txt\", delimiter=\" \", \n",
    "                    header=None, names = (\"date\",\"time\",\"ir\",\"lidar\"))\n",
    "\n",
    "d = data.loc[:, [\"ir\", \"lidar\"]] #光センサとLiDARのデータだけにする"
   ]
  },
  {
   "cell_type": "code",
   "execution_count": null,
   "metadata": {},
   "outputs": [],
   "source": [
    "sns.jointplot(d[\"ir\"], d[\"lidar\"], d, kind=\"kde\") #度数分布を描画\n",
    "d.cov()                                                                    #分散、共分散を計算"
   ]
  },
  {
   "cell_type": "code",
   "execution_count": null,
   "metadata": {},
   "outputs": [],
   "source": [
    "import numpy as np  \n",
    "from scipy.stats import multivariate_normal\n",
    " \n",
    "x, y = np.mgrid[280:340, 190:230]   \n",
    "pos = np.empty(x.shape + (2,)) \n",
    "pos[:, :, 0] = x   \n",
    "pos[:, :, 1] = y\n",
    " \n",
    "irlidar = multivariate_normal(mean=d.mean().values.T, cov=d.cov().values) #2次元ガウス分布を作る\n",
    "cont = plt.contour(x, y, irlidar.pdf(pos)) #密度の値の等高線を作る\n",
    "cont.clabel(fmt='%1.1e')                          #等高線に値の文字列を入れる\n",
    "\n",
    "plt.show()"
   ]
  }
 ],
 "metadata": {
  "kernelspec": {
   "display_name": "Python 3",
   "language": "python",
   "name": "python3"
  },
  "language_info": {
   "codemirror_mode": {
    "name": "ipython",
    "version": 3
   },
   "file_extension": ".py",
   "mimetype": "text/x-python",
   "name": "python",
   "nbconvert_exporter": "python",
   "pygments_lexer": "ipython3",
   "version": "3.7.0"
  }
 },
 "nbformat": 4,
 "nbformat_minor": 2
}
