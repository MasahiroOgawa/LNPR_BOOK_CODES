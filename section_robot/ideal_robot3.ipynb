{
 "cells": [
  {
   "cell_type": "code",
   "execution_count": null,
   "metadata": {},
   "outputs": [],
   "source": [
    "import matplotlib                   #追加   ### fig:add_animation_module (1〜3行目) \n",
    "matplotlib.use('nbagg')             #追加 \n",
    "import matplotlib.animation as anm  #追加\n",
    "import matplotlib.pyplot as plt\n",
    "import math\n",
    "import matplotlib.patches as patches\n",
    "import numpy as np"
   ]
  },
  {
   "cell_type": "code",
   "execution_count": null,
   "metadata": {},
   "outputs": [],
   "source": [
    "class World:                          ### fig:animation_prepare\n",
    "    def __init__(self, debug=False): #デバッグ用のフラグを追加\n",
    "        self.objects = [] \n",
    "        self.debug = debug #追加\n",
    "        \n",
    "    def append(self,obj): \n",
    "        self.objects.append(obj)\n",
    "    \n",
    "    def draw(self):\n",
    "        fig = plt.figure(figsize=(4,4))     #10〜16行目はそのまま\n",
    "        ax = fig.add_subplot(111)\n",
    "        ax.set_aspect('equal')\n",
    "        ax.set_xlim(-5,5)\n",
    "        ax.set_ylim(-5,5)\n",
    "        ax.set_xlabel(\"X\",fontsize=10)\n",
    "        ax.set_ylabel(\"Y\",fontsize=10)\n",
    "        \n",
    "        elems = []\n",
    "        \n",
    "        if self.debug:        \n",
    "            for i in range(1000): self.one_step(i, elems, ax) #デバッグ時はアニメーションさせない\n",
    "        else:\n",
    "            self.ani = anm.FuncAnimation(fig, self.one_step, fargs=(elems, ax), frames=10, interval=1000, repeat=False)    \n",
    "            plt.show()\n",
    "        \n",
    "    def one_step(self, i, elems, ax):\n",
    "        pass"
   ]
  },
  {
   "cell_type": "code",
   "execution_count": null,
   "metadata": {},
   "outputs": [],
   "source": [
    "class IdealRobot:\n",
    "    def __init__(self, pose, color=\"black\"):\n",
    "        self.pose = pose        # 引数から姿勢の初期値を設定\n",
    "        self.r = 0.2            # これは描画のためなので固定値\n",
    "        self.color = color      # 引数から描画するときの色を設定\n",
    "    \n",
    "    def draw(self, ax):\n",
    "        x, y, theta = self.pose                   # 姿勢の変数を分解して3つの変数へ\n",
    "        xn = x + self.r * math.cos(theta)         #  ロボットの鼻先のx座標 \n",
    "        yn = y + self.r * math.sin(theta)         #  ロボットの鼻先のy座標 \n",
    "        ax.plot([x,xn], [y,yn], color=self.color) # ロボットの向きを示す線分の描画\n",
    "        c = patches.Circle(xy=(x, y), radius=self.r, fill=False, color=self.color) \n",
    "        ax.add_patch(c)   # 上のpatches.Circleでロボットの胴体を示す円を作ってサブプロットへ登録"
   ]
  },
  {
   "cell_type": "code",
   "execution_count": null,
   "metadata": {},
   "outputs": [],
   "source": [
    "world = World(debug=False)        \n",
    "\n",
    "robot1 = IdealRobot( np.array([2, 3, math.pi/6]).T )           # ロボットのインスタンス生成（色を省略）\n",
    "robot2 = IdealRobot( np.array([-2, -1, math.pi/5*6]).T, \"red\")  # ロボットのインスタンス生成（色を指定）\n",
    "world.append(robot1)                                      # ロボットを登録 \n",
    "world.append(robot2)\n",
    "world.draw()"
   ]
  },
  {
   "cell_type": "code",
   "execution_count": null,
   "metadata": {},
   "outputs": [],
   "source": []
  }
 ],
 "metadata": {
  "kernelspec": {
   "display_name": "Python 3",
   "language": "python",
   "name": "python3"
  },
  "language_info": {
   "codemirror_mode": {
    "name": "ipython",
    "version": 3
   },
   "file_extension": ".py",
   "mimetype": "text/x-python",
   "name": "python",
   "nbconvert_exporter": "python",
   "pygments_lexer": "ipython3",
   "version": "3.7.3"
  }
 },
 "nbformat": 4,
 "nbformat_minor": 2
}
