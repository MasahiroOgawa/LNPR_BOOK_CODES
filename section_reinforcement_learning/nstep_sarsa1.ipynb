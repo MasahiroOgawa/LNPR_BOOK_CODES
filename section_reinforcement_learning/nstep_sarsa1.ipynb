{
 "cells": [
  {
   "cell_type": "code",
   "execution_count": null,
   "metadata": {},
   "outputs": [],
   "source": [
    "import sys ###nstep_sarsa1（ここから[2]の11行目までと、[2]の20行目以降）\n",
    "sys.path.append('../scripts/')\n",
    "from sarsa import *"
   ]
  },
  {
   "cell_type": "code",
   "execution_count": null,
   "metadata": {},
   "outputs": [],
   "source": [
    "class NstepSarsaAgent(SarsaAgent): \n",
    "    def __init__(self, time_interval, estimator, puddle_coef=100,  alpha=0.5, widths=np.array([0.2, 0.2, math.pi/18]).T, \\\n",
    "                 lowerleft=np.array([-4, -4]).T, upperright=np.array([4, 4]).T, dev_borders=[0.1,0.2,0.4,0.8], nstep=10): #nstepを追加\n",
    "        super().__init__(time_interval, estimator, puddle_coef,  alpha, widths, lowerleft, upperright, dev_borders)\n",
    "        \n",
    "        self.s_trace = [] #以下追加\n",
    "        self.a_trace = []\n",
    "        self.r_trace = []\n",
    "        self.nstep = nstep\n",
    "        \n",
    "    def decision(self, observation=None):\n",
    "        ##終了処理##\n",
    "        if self.update_end:  return 0.0, 0.0\n",
    "        if self.in_goal:          self.update_end = True\n",
    "        \n",
    "        ##カルマンフィルタの実行##\n",
    "        self.estimator.motion_update(self.prev_nu, self.prev_omega, self.time_interval)\n",
    "        self.estimator.observation_update(observation)\n",
    "        \n",
    "        ##行動決定と報酬の処理##\n",
    "        s_, a_ = self.policy(self.estimator.pose)\n",
    "        r = self.time_interval*self.reward_per_sec() \n",
    "        self.r_trace.append(r) #インデックスの整合性のためにrは先に登録しておく\n",
    "        self.total_reward += r\n",
    "        \n",
    "        ##Q値の更新とs', a'の記録##\n",
    "        self.q_update(s_, a_, self.nstep)\n",
    "        self.s_trace.append(s_)\n",
    "        self.a_trace.append(a_)\n",
    "\n",
    "        ##出力##\n",
    "        self.prev_nu, self.prev_omega = self.actions[a_]\n",
    "        return self.actions[a_]\n",
    "\n",
    "    def q_update(self, s_, a_, n):\n",
    "        if n > len(self.s_trace) or n == 0: return\n",
    "        \n",
    "        s, a = self.s_trace[-n], self.a_trace[-n] #更新対象の状態行動対\n",
    "        \n",
    "        q = self.ss[s].q[a]                                      #更新前のQ値\n",
    "        r = sum(self.r_trace[-n:])                         #nステップ前までの報酬の和\n",
    "        q_ = self.final_value if self.in_goal else self.ss[s_].q[a_] #遷移後のQ値\n",
    "        self.ss[s].q[a] = (1.0 - self.alpha)*q + self.alpha*(r + q_) #更新\n",
    "                \n",
    "        if self.in_goal: #ゴールしたら1〜n-1ステップ前のQ値を更新\n",
    "            self.q_update(s_, a_, n-1)"
   ]
  },
  {
   "cell_type": "code",
   "execution_count": null,
   "metadata": {},
   "outputs": [],
   "source": [
    "def trial(): \n",
    "    time_interval = 0.1\n",
    "    world = PuddleWorld(400000, time_interval, debug=False)  #長時間アニメーション時間をとる\n",
    "\n",
    "    ## 地図を生成して3つランドマークを追加 ##\n",
    "    m = Map()\n",
    "    for ln in [(-4,2), (2,-3), (4,4), (-4,-4)]: m.append_landmark(Landmark(*ln))\n",
    "    world.append(m)   \n",
    "\n",
    "    ##ゴールの追加##\n",
    "    goal = Goal(-3,-3) \n",
    "    world.append(goal)\n",
    "    \n",
    "    ##水たまりの追加##\n",
    "    world.append(Puddle((-2, 0), (0, 2), 0.1)) \n",
    "    world.append(Puddle((-0.5, -2), (2.5, 1), 0.1)) \n",
    "\n",
    "    ##ロボットを1台登場させる##\n",
    "    init_pose = np.array([3, 3, 0]).T\n",
    "    kf = KalmanFilter(m, init_pose)\n",
    "    a = NstepSarsaAgent(time_interval, kf)\n",
    "    r = WarpRobot(init_pose, sensor=Camera(m, distance_bias_rate_stddev=0, direction_bias_stddev=0), \n",
    "              agent=a, color=\"red\", bias_rate_stds=(0,0))\n",
    "    world.append(r)\n",
    "    \n",
    "    world.draw()\n",
    "    return a\n",
    "    \n",
    "a = trial()"
   ]
  },
  {
   "cell_type": "code",
   "execution_count": null,
   "metadata": {},
   "outputs": [],
   "source": [
    "v = np.zeros(a.index_nums[0:2])\n",
    "for x in range(a.index_nums[0]):\n",
    "    for y in range(a.index_nums[1]):\n",
    "        v[x,y] = a.ss[(x,y,18)].max_q()\n",
    "        \n",
    "import seaborn as sns   \n",
    "sns.heatmap(np.rot90(v), square=False)\n",
    "plt.show()"
   ]
  },
  {
   "cell_type": "code",
   "execution_count": null,
   "metadata": {},
   "outputs": [],
   "source": []
  }
 ],
 "metadata": {
  "kernelspec": {
   "display_name": "Python 3",
   "language": "python",
   "name": "python3"
  },
  "language_info": {
   "codemirror_mode": {
    "name": "ipython",
    "version": 3
   },
   "file_extension": ".py",
   "mimetype": "text/x-python",
   "name": "python",
   "nbconvert_exporter": "python",
   "pygments_lexer": "ipython3",
   "version": "3.7.3"
  }
 },
 "nbformat": 4,
 "nbformat_minor": 2
}
