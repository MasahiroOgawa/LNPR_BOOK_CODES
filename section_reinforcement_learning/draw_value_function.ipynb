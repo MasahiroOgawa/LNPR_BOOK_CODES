{
 "cells": [
  {
   "cell_type": "code",
   "execution_count": null,
   "metadata": {},
   "outputs": [],
   "source": [
    "v = {}\n",
    "for line in open(\"/Users/ueda/GIT/LoPR_BOOK/reinforcement_learning_results/sarsa0_value3500000.txt\", \"r\"):\n",
    "    d = line.split()\n",
    "    v[ (int(d[0]), int(d[1]), int(d[2]))] = float(d[3])"
   ]
  },
  {
   "cell_type": "code",
   "execution_count": null,
   "metadata": {},
   "outputs": [],
   "source": [
    "import sys ###dppolicyagent\n",
    "sys.path.append('../scripts/')\n",
    "from puddle_world import *"
   ]
  },
  {
   "cell_type": "code",
   "execution_count": null,
   "metadata": {},
   "outputs": [],
   "source": [
    "n = 40\n",
    "xy = np.zeros((n,n))\n",
    "for x in range(n):\n",
    "    for y in range(n):\n",
    "        xy[x,y] = v[(x,y,18)]\n",
    "        \n",
    "import seaborn as sns   \n",
    "sns.heatmap(np.rot90(xy), square=False)\n",
    "plt.show()"
   ]
  },
  {
   "cell_type": "code",
   "execution_count": null,
   "metadata": {},
   "outputs": [],
   "source": []
  }
 ],
 "metadata": {
  "kernelspec": {
   "display_name": "Python 3",
   "language": "python",
   "name": "python3"
  },
  "language_info": {
   "codemirror_mode": {
    "name": "ipython",
    "version": 3
   },
   "file_extension": ".py",
   "mimetype": "text/x-python",
   "name": "python",
   "nbconvert_exporter": "python",
   "pygments_lexer": "ipython3",
   "version": "3.7.0"
  }
 },
 "nbformat": 4,
 "nbformat_minor": 2
}
