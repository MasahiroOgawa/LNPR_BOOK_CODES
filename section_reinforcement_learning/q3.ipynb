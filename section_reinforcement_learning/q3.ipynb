{
 "cells": [
  {
   "cell_type": "code",
   "execution_count": null,
   "metadata": {},
   "outputs": [],
   "source": [
    "import sys  ###q3header\n",
    "sys.path.append('../scripts/')\n",
    "from dp_policy_agent import *"
   ]
  },
  {
   "cell_type": "code",
   "execution_count": null,
   "metadata": {},
   "outputs": [],
   "source": [
    "class StateInfo: ###stateinfo3\n",
    "    def __init__(self, action_num, epsilon=0.3):   #epsilon追加\n",
    "        self.q = np.zeros(action_num)\n",
    "        self.epsilon = epsilon\n",
    "        \n",
    "    def greedy(self):\n",
    "        return np.argmax(self.q)\n",
    "    \n",
    "    def epsilon_greedy(self, epsilon): #追加\n",
    "        if random.random() < epsilon:\n",
    "            return random.choice(range(len(self.q)))\n",
    "        else:\n",
    "            return self.greedy()\n",
    "    \n",
    "    def pi(self):\n",
    "        return self.epsilon_greedy(self.epsilon) #epsilon_greedyに変更"
   ]
  },
  {
   "cell_type": "code",
   "execution_count": null,
   "metadata": {},
   "outputs": [],
   "source": [
    "class QAgent(DpPolicyAgent):\n",
    "    def __init__(self, time_interval, estimator, puddle_coef=100, widths=np.array([0.2, 0.2, math.pi/18]).T, \\\n",
    "                 lowerleft=np.array([-4, -4]).T, upperright=np.array([4, 4]).T, dev_borders=[0.1,0.2,0.4,0.8]): #goalを削除\n",
    "        super().__init__(time_interval, estimator, None, puddle_coef, widths, lowerleft, upperright) #goalをNoneに\n",
    "        \n",
    "        nx, ny, nt = self.index_nums #6-8行目はDynamicProgrammingから持ってくる\n",
    "        self.indexes = list(itertools.product(range(nx), range(ny), range(nt)))\n",
    "        self.actions = list(set([tuple(self.policy_data[i]) for i in self.indexes]))\n",
    "        self.ss = self.set_action_value_function() #PuddleIgnorePolicyの方策と価値関数の読み込み\n",
    "\n",
    "    def set_action_value_function(self): #状態価値関数を読み込んで行動価値関数を初期化\n",
    "        ss = {} #state spaceという意味\n",
    "        for line in open(\"puddle_ignore_values.txt\", \"r\"): #価値のファイルを読み込む\n",
    "            d = line.split()\n",
    "            index, value = (int(d[0]), int(d[1]), int(d[2])), float(d[3]) #インデックスをタプル、値を数字に\n",
    "            ss[index] = StateInfo(len(self.actions)) #StateInfoオブジェクトを割り当てて初期化\n",
    "            \n",
    "            for i, a in enumerate(self.actions): #方策の行動価値を価値のファイルに書いてある値に。そうでない場合はちょっと引く\n",
    "                ss[index].q[i] = value if tuple(self.policy_data[index]) == a else value - 0.1\n",
    "                \n",
    "        return ss\n",
    "    \n",
    "    def policy(self, pose, goal=None):\n",
    "        index = self.to_index(pose, self.pose_min, self.index_nums, self.widths)                \n",
    "        a = self.ss[tuple(index)].pi() #行動価値関数を使って行動決定\n",
    "        return self.actions[a]"
   ]
  },
  {
   "cell_type": "code",
   "execution_count": null,
   "metadata": {},
   "outputs": [],
   "source": [
    "def trial(): \n",
    "    time_interval = 0.1\n",
    "    world = PuddleWorld(400000, time_interval, debug=False)  #長時間アニメーション時間をとる\n",
    "\n",
    "    ## 地図を生成して3つランドマークを追加 ##\n",
    "    m = Map()\n",
    "    for ln in [(-4,2), (2,-3), (4,4), (-4,-4)]: m.append_landmark(Landmark(*ln))\n",
    "    world.append(m)   \n",
    "\n",
    "    ##ゴールの追加##\n",
    "    goal = Goal(-3,-3) \n",
    "    world.append(goal)\n",
    "    \n",
    "    ##水たまりの追加##\n",
    "    world.append(Puddle((-2, 0), (0, 2), 0.1)) \n",
    "    world.append(Puddle((-0.5, -2), (2.5, 1), 0.1)) \n",
    "\n",
    "    ##ロボットを1台登場させる##\n",
    "    init_pose = np.array([3, 3, 0]).T\n",
    "    kf = KalmanFilter(m, init_pose)\n",
    "    a = QAgent(time_interval, kf) #goalを削除\n",
    "    r = Robot(init_pose, sensor=Camera(m, distance_bias_rate_stddev=0, direction_bias_stddev=0), \n",
    "              agent=a, color=\"red\", bias_rate_stds=(0,0))\n",
    "    world.append(r)\n",
    "    \n",
    "    world.draw()\n",
    "    return a\n",
    "    \n",
    "a = trial()"
   ]
  },
  {
   "cell_type": "code",
   "execution_count": null,
   "metadata": {},
   "outputs": [],
   "source": []
  }
 ],
 "metadata": {
  "kernelspec": {
   "display_name": "Python 3",
   "language": "python",
   "name": "python3"
  },
  "language_info": {
   "codemirror_mode": {
    "name": "ipython",
    "version": 3
   },
   "file_extension": ".py",
   "mimetype": "text/x-python",
   "name": "python",
   "nbconvert_exporter": "python",
   "pygments_lexer": "ipython3",
   "version": "3.7.0"
  }
 },
 "nbformat": 4,
 "nbformat_minor": 2
}
