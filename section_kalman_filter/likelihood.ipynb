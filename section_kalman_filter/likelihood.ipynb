{
 "cells": [
  {
   "cell_type": "code",
   "execution_count": 1,
   "metadata": {},
   "outputs": [
    {
     "data": {
      "image/png": "[encoded data removed]",
      "text/plain": [
       "<Figure size 432x288 with 1 Axes>"
      ]
     },
     "metadata": {
      "needs_background": "light"
     },
     "output_type": "display_data"
    }
   ],
   "source": [
    "import math ###circlelikelihood\n",
    "import matplotlib.pyplot as plt\n",
    "import numpy as np \n",
    "from scipy.stats import multivariate_normal\n",
    "\n",
    "def likelihood(x, y):\n",
    "    suggest_pos = np.array([math.sqrt(x*x + y*y), 0.0]).T #(x,y)から予想されるランドマーク計測値\n",
    "\n",
    "    distance_dev = 0.14*(suggest_pos[0] + 0.01) #距離に対する雑音（0にしないために0.01を付加）\n",
    "    cov = np.diag(np.array([distance_dev**2, 0.05**2])) #雑音の共分散行列を作る\n",
    "    return multivariate_normal(mean=suggest_pos, cov=cov).pdf(np.array([1.0, 0]).T) #実測値と比較\n",
    "            \n",
    "z = []\n",
    "for y in np.arange(-5.0, 5.0, 0.1): #-5[m]から5[m]まで0.1[m]刻みでリストを作成\n",
    "    tmp = []\n",
    "    for x in np.arange(-5.0, 5.0, 0.1):\n",
    "        tmp.append(likelihood(x, y))\n",
    "    \n",
    "    z.append(tmp)\n",
    "\n",
    "plt.pcolor(z, cmap=plt.cm.binary)\n",
    "plt.show()"
   ]
  },
  {
   "cell_type": "code",
   "execution_count": null,
   "metadata": {},
   "outputs": [],
   "source": []
  }
 ],
 "metadata": {
  "kernelspec": {
   "display_name": "Python 3",
   "language": "python",
   "name": "python3"
  },
  "language_info": {
   "codemirror_mode": {
    "name": "ipython",
    "version": 3
   },
   "file_extension": ".py",
   "mimetype": "text/x-python",
   "name": "python",
   "nbconvert_exporter": "python",
   "pygments_lexer": "ipython3",
   "version": "3.9.5"
  }
 },
 "nbformat": 4,
 "nbformat_minor": 2
}
